{
 "metadata": {
  "language_info": {
   "codemirror_mode": {
    "name": "ipython",
    "version": 3
   },
   "file_extension": ".py",
   "mimetype": "text/x-python",
   "name": "python",
   "nbconvert_exporter": "python",
   "pygments_lexer": "ipython3",
   "version": "3.8.3-final"
  },
  "orig_nbformat": 2,
  "kernelspec": {
   "name": "Python 3.8.3 64-bit ('base': conda)",
   "display_name": "Python 3.8.3 64-bit ('base': conda)",
   "metadata": {
    "interpreter": {
     "hash": "36bd2fd3f0ddd2b8653abd7aac0d7ae65199260df87733a4fe12bdc373c60cd3"
    }
   }
  }
 },
 "nbformat": 4,
 "nbformat_minor": 2,
 "cells": [
  {
   "cell_type": "code",
   "execution_count": 11,
   "metadata": {
    "tags": []
   },
   "outputs": [
    {
     "output_type": "stream",
     "name": "stdout",
     "text": [
      "0        1\n1       14\n2        4\n3       12\n4       20\n        ..\n1192     6\n1193     6\n1194     1\n1195     1\n1196    16\nName: 1024, Length: 1197, dtype: int64\n[[ 1  1  1 ...  1  1  1]\n [ 1  1  1 ...  1  1 14]\n [ 1  1  1 ...  1  1  4]\n ...\n [ 1  1  1 ...  1  1  1]\n [ 0  1  1 ...  1  1  1]\n [ 1  1  1 ...  1  1 16]]\n[[1 1 1 ... 1 1 1]\n [1 1 1 ... 1 1 1]\n [1 1 1 ... 1 1 1]\n ...\n [1 1 1 ... 1 1 1]\n [0 1 1 ... 1 1 1]\n [1 1 1 ... 0 1 1]]\n[1]\n"
     ]
    }
   ],
   "source": [
    "import pandas as pd\n",
    "from sklearn.naive_bayes import GaussianNB\n",
    "\n",
    "df = pd.read_csv ('Assig1-Dataset/train_1.csv', header=None)\n",
    "\n",
    "# the label is the last column of the dataset\n",
    "label = df[1024].to_numpy()\n",
    "\n",
    "# deletes label of EACH ROW (somehow pandas makes magic like this happen) and sends features to array\n",
    "del df[1024]\n",
    "\n",
    "# df.to_numpy() is csv in 2d array format\n",
    "features = [x for x in df.to_numpy()]\n",
    "\n",
    "# fit model \n",
    "model = GaussianNB()\n",
    "model.fit(features,label)\n",
    "\n",
    "predicted = model.predict([features[0]])\n",
    "\n",
    "print(predicted)\n",
    "# make 32X32 image\n",
    "\n"
   ]
  },
  {
   "cell_type": "code",
   "execution_count": 6,
   "metadata": {},
   "outputs": [
    {
     "output_type": "execute_result",
     "data": {
      "text/plain": [
       "0.08079313589591118"
      ]
     },
     "metadata": {},
     "execution_count": 6
    }
   ],
   "source": [
    "from math import log2\n",
    "\n",
    "H = lambda x: -sum([p * log2(p) for p in x])\n",
    "\n",
    "H([0.99,0.01])"
   ]
  },
  {
   "cell_type": "code",
   "execution_count": null,
   "metadata": {},
   "outputs": [],
   "source": []
  }
 ]
}
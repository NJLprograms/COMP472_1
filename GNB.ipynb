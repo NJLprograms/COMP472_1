{
 "metadata": {
  "language_info": {
   "codemirror_mode": {
    "name": "ipython",
    "version": 3
   },
   "file_extension": ".py",
   "mimetype": "text/x-python",
   "name": "python",
   "nbconvert_exporter": "python",
   "pygments_lexer": "ipython3",
   "version": "3.8.3-final"
  },
  "orig_nbformat": 2,
  "kernelspec": {
   "name": "Python 3.8.3 64-bit ('base': conda)",
   "display_name": "Python 3.8.3 64-bit ('base': conda)",
   "metadata": {
    "interpreter": {
     "hash": "36bd2fd3f0ddd2b8653abd7aac0d7ae65199260df87733a4fe12bdc373c60cd3"
    }
   }
  }
 },
 "nbformat": 4,
 "nbformat_minor": 2,
 "cells": [
  {
   "cell_type": "code",
   "execution_count": 34,
   "metadata": {
    "tags": []
   },
   "outputs": [
    {
     "output_type": "stream",
     "name": "stdout",
     "text": [
      "[14]\n"
     ]
    }
   ],
   "source": [
    "import pandas as pd\n",
    "import numpy as np\n",
    "from sklearn.naive_bayes import GaussianNB\n",
    "\n",
    "df = pd.read_csv ('Assig1-Dataset/train_1.csv', header=None)\n",
    "\n",
    "# the label is the last column of the dataset\n",
    "label = df[1024].to_numpy()\n",
    "\n",
    "# delete label and send features to array\n",
    "del df[1024]\n",
    "features = [x for x in df.to_numpy()]\n",
    "\n",
    "# fit model \n",
    "model = GaussianNB()\n",
    "model.fit(features,label)\n",
    "\n",
    "predicted = model.predict([features[1]])\n",
    "\n",
    "print(predicted)\n",
    "# make 32X32 image\n",
    "\n"
   ]
  },
  {
   "cell_type": "code",
   "execution_count": null,
   "metadata": {},
   "outputs": [],
   "source": []
  }
 ]
}
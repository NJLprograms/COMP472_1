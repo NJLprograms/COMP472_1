{
 "metadata": {
  "language_info": {
   "codemirror_mode": {
    "name": "ipython",
    "version": 3
   },
   "file_extension": ".py",
   "mimetype": "text/x-python",
   "name": "python",
   "nbconvert_exporter": "python",
   "pygments_lexer": "ipython3",
   "version": "3.7.9-final"
  },
  "orig_nbformat": 2,
  "kernelspec": {
   "name": "Python 3.7.9 64-bit",
   "display_name": "Python 3.7.9 64-bit",
   "metadata": {
    "interpreter": {
     "hash": "31f2aee4e71d21fbe5cf8b01ff0e069b9275f58929596ceb00d14d90e3e16cd6"
    }
   }
  }
 },
 "nbformat": 4,
 "nbformat_minor": 2,
 "cells": [
  {
   "source": [
    "from BaseMLP import base_MLP_model\n",
    "import pandas as pd\n",
    "from numpy import mean\n",
    "from sklearn.metrics import confusion_matrix, recall_score, precision_score, f1_score, accuracy_score\n",
    "\n",
    "mlp = base_MLP_model('../Assig1-Dataset/train_1.csv')\n",
    "df = pd.read_csv('../Assig1-Dataset/val_1.csv', header=None)\n",
    "\n",
    "labels = df[1024]\n",
    "del df[1024]\n",
    "\n",
    "features = [feature for feature in df.to_numpy()]\n",
    "predicted = mlp.predict(features)\n",
    "\n",
    "results = []\n",
    "incorrect_results = 0\n",
    "for i in range(len(features)):\n",
    "    results.append([predicted[i]])\n",
    "    # print(f'Row #{i} predicts {predicted[i]} and the actual label is {labels[i]}')\n",
    "    if predicted[i] != labels[i]:\n",
    "        incorrect_results += 1\n",
    "\n",
    "print(f'For a total of {len(features)} letters, {incorrect_results} were incorrect results for Base-MLP model.')\n",
    "csv_results = pd.DataFrame(results, columns=['Predicted'])\n",
    "csv_results.to_csv('Base-MLP-DS1.csv')\n",
    "confusion_matrix(labels,predicted)\n",
    "\n",
    "print(f'The precision score is {precision_score(labels,predicted, average=None)}, the recall score is {recall_score(labels,predicted, average=None)} and the f1 measure is {f1_score(labels,predicted, average=None)}')\n",
    "\n",
    "print(f'The accuracy score is {accuracy_score(labels,predicted)}')\n",
    "print(f'The macro f1 is {mean(f1_score(labels,predicted, average=None))}')"
   ],
   "cell_type": "code",
   "metadata": {},
   "execution_count": 7,
   "outputs": [
    {
     "output_type": "stream",
     "name": "stdout",
     "text": [
      "For a total of 239 letters, 134 were incorrect results for Base-MLP model.\nThe precision score is [0.54545455 0.         0.375      0.         0.         0.\n 0.42105263 0.83333333 0.26315789 0.27272727 0.4        0.5625\n 0.57142857 0.26923077 0.41666667 0.45454545 1.         0.36363636\n 0.         0.         0.         0.         0.77777778 1.\n 0.         1.        ], the recall score is [0.6        0.         0.9        0.         0.         0.\n 0.8        0.55555556 1.         0.3        1.         0.9\n 0.4        0.7        0.5        0.5        0.5        0.4\n 0.         0.         0.         0.         0.77777778 0.25\n 0.         0.66666667] and the f1 measure is [0.57142857 0.         0.52941176 0.         0.         0.\n 0.55172414 0.66666667 0.41666667 0.28571429 0.57142857 0.69230769\n 0.47058824 0.38888889 0.45454545 0.47619048 0.66666667 0.38095238\n 0.         0.         0.         0.         0.77777778 0.4\n 0.         0.8       ]\nThe accuracy score is 0.4393305439330544\nThe macro f1 is 0.3500368552755821\n"
     ]
    }
   ]
  },
  {
   "cell_type": "code",
   "execution_count": 6,
   "metadata": {
    "tags": []
   },
   "outputs": [
    {
     "output_type": "stream",
     "name": "stdout",
     "text": [
      "For a total of 1560 letters, 221 were incorrect results for Base-MLP model.\nThe precision score is [0.84571429 0.89268293 0.93333333 0.9375     0.75373134 0.87195122\n 0.90625    1.         0.7791411  0.86432161], the recall score is [0.8969697  0.976      0.31111111 0.66666667 0.67333333 0.86666667\n 0.64444444 0.82222222 0.84666667 0.91733333] and the f1 measure is [0.87058824 0.93248408 0.46666667 0.77922078 0.71126761 0.86930091\n 0.75324675 0.90243902 0.8115016  0.89003881]\nThe accuracy score is 0.8583333333333333\nThe macro f1 is 0.7986754460015502\n"
     ]
    }
   ],
   "source": [
    "from BaseMLP import base_MLP_model\n",
    "import pandas as pd\n",
    "from numpy import mean\n",
    "from sklearn.metrics import confusion_matrix, recall_score, precision_score, f1_score, accuracy_score\n",
    "\n",
    "mlp = base_MLP_model('../Assig1-Dataset/train_2.csv')\n",
    "df = pd.read_csv('../Assig1-Dataset/val_2.csv', header=None)\n",
    "\n",
    "labels = df[1024]\n",
    "del df[1024]\n",
    "\n",
    "features = [feature for feature in df.to_numpy()]\n",
    "predicted = mlp.predict(features)\n",
    "\n",
    "results = []\n",
    "incorrect_results = 0\n",
    "for i in range(len(features)):\n",
    "    results.append([predicted[i]])\n",
    "    # print(f'Row #{i} predicts {predicted[i]} and the actual label is {labels[i]}')\n",
    "    if predicted[i] != labels[i]:\n",
    "        incorrect_results += 1\n",
    "\n",
    "print(f'For a total of {len(features)} letters, {incorrect_results} were incorrect results for Base-MLP model.')\n",
    "csv_results = pd.DataFrame(results, columns=['Predicted'])\n",
    "csv_results.to_csv('Base-MLP-DS2.csv')\n",
    "confusion_matrix(labels,predicted)\n",
    "\n",
    "print(f'The precision score is {precision_score(labels,predicted, average=None)}, the recall score is {recall_score(labels,predicted, average=None)} and the f1 measure is {f1_score(labels,predicted, average=None)}')\n",
    "print(f'The accuracy score is {accuracy_score(labels,predicted)}')\n",
    "print(f'The macro f1 is {mean(f1_score(labels,predicted, average=None))}') "
   ]
  },
  {
   "cell_type": "code",
   "execution_count": null,
   "metadata": {},
   "outputs": [],
   "source": []
  }
 ]
}
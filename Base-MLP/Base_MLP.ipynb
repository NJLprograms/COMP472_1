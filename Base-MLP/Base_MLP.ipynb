{
 "metadata": {
  "language_info": {
   "codemirror_mode": {
    "name": "ipython",
    "version": 3
   },
   "file_extension": ".py",
   "mimetype": "text/x-python",
   "name": "python",
   "nbconvert_exporter": "python",
   "pygments_lexer": "ipython3",
   "version": "3.7.9-final"
  },
  "orig_nbformat": 2,
  "kernelspec": {
   "name": "Python 3.7.9 64-bit",
   "display_name": "Python 3.7.9 64-bit",
   "metadata": {
    "interpreter": {
     "hash": "31f2aee4e71d21fbe5cf8b01ff0e069b9275f58929596ceb00d14d90e3e16cd6"
    }
   }
  }
 },
 "nbformat": 4,
 "nbformat_minor": 2,
 "cells": [
  {
   "source": [
    "from BaseMLP import base_MLP_model\n",
    "import pandas as pd\n",
    "from numpy import mean\n",
    "from sklearn.metrics import confusion_matrix, recall_score, precision_score, f1_score, accuracy_score\n",
    "\n",
    "mlp = base_MLP_model('../Assig1-Dataset/train_1.csv')\n",
    "df = pd.read_csv('../Assig1-Dataset/val_1.csv', header=None)\n",
    "\n",
    "labels = df[1024]\n",
    "del df[1024]\n",
    "\n",
    "features = [feature for feature in df.to_numpy()]\n",
    "predicted = mlp.predict(features)\n",
    "\n",
    "results = []\n",
    "incorrect_results = 0\n",
    "for i in range(len(features)):\n",
    "    results.append([predicted[i]])\n",
    "    # print(f'Row #{i} predicts {predicted[i]} and the actual label is {labels[i]}')\n",
    "    if predicted[i] != labels[i]:\n",
    "        incorrect_results += 1\n",
    "\n",
    "print(f'For a total of {len(features)} letters, {incorrect_results} were incorrect results for Base-MLP model.')\n",
    "csv_results = pd.DataFrame(results, columns=['Predicted'])\n",
    "csv_results.to_csv('Base-MLP-DS1.csv')\n",
    "confusion_matrix(labels,predicted)\n",
    "\n",
    "print(f'The precision score is {precision_score(labels,predicted, average=None)}, the recall score is {recall_score(labels,predicted, average=None)} and the f1 measure is {f1_score(labels,predicted, average=None)}')\n",
    "\n",
    "print(f'The accuracy score is {accuracy_score(labels,predicted)}')\n",
    "print(f'The macro f1 is {f1_score(labels,predicted, average=\"macro\",)}')\n",
    "print(f'The weighted f1 is {f1_score(labels,predicted, average=\"weighted\",)}')"
   ],
   "cell_type": "code",
   "metadata": {},
   "execution_count": 9,
   "outputs": [
    {
     "output_type": "stream",
     "name": "stdout",
     "text": [
      "For a total of 239 letters, 141 were incorrect results for Base-MLP model.\nThe precision score is [0.625      0.         0.25806452 0.         0.         0.\n 0.35       1.         0.34482759 0.53846154 0.41666667 0.5625\n 0.42857143 0.23076923 0.6        0.55555556 1.         0.26923077\n 0.         0.         0.         0.5        1.         0.\n 0.         1.        ], the recall score is [0.5        0.         0.8        0.         0.         0.\n 0.7        0.33333333 1.         0.7        1.         0.9\n 0.6        0.6        0.6        0.5        0.2        0.7\n 0.         0.         0.         0.125      0.55555556 0.\n 0.         0.11111111] and the f1 measure is [0.55555556 0.         0.3902439  0.         0.         0.\n 0.46666667 0.5        0.51282051 0.60869565 0.58823529 0.69230769\n 0.5        0.33333333 0.6        0.52631579 0.33333333 0.38888889\n 0.         0.         0.         0.2        0.71428571 0.\n 0.         0.2       ]\nThe accuracy score is 0.4100418410041841\nThe macro f1 is 0.3119493205921525\nThe weighted f1 is 0.33176793991495374\n"
     ]
    }
   ]
  },
  {
   "cell_type": "code",
   "execution_count": 8,
   "metadata": {
    "tags": []
   },
   "outputs": [
    {
     "output_type": "stream",
     "name": "stdout",
     "text": [
      "For a total of 1560 letters, 222 were incorrect results for Base-MLP model.\nThe precision score is [0.83908046 0.89051095 0.76190476 0.93103448 0.7518797  0.85964912\n 0.96875    0.975      0.80794702 0.86432161], the recall score is [0.88484848 0.976      0.35555556 0.6        0.66666667 0.89090909\n 0.68888889 0.86666667 0.81333333 0.91733333] and the f1 measure is [0.86135693 0.93129771 0.48484848 0.72972973 0.70671378 0.875\n 0.80519481 0.91764706 0.81063123 0.89003881]\nThe accuracy score is 0.8576923076923076\nThe macro f1 is 0.8012458540660038\nThe weighted f1 is 0.8521062460087523\n"
     ]
    }
   ],
   "source": [
    "from BaseMLP import base_MLP_model\n",
    "import pandas as pd\n",
    "from numpy import mean\n",
    "from sklearn.metrics import confusion_matrix, recall_score, precision_score, f1_score, accuracy_score\n",
    "\n",
    "mlp = base_MLP_model('../Assig1-Dataset/train_2.csv')\n",
    "df = pd.read_csv('../Assig1-Dataset/val_2.csv', header=None)\n",
    "\n",
    "labels = df[1024]\n",
    "del df[1024]\n",
    "\n",
    "features = [feature for feature in df.to_numpy()]\n",
    "predicted = mlp.predict(features)\n",
    "\n",
    "results = []\n",
    "incorrect_results = 0\n",
    "for i in range(len(features)):\n",
    "    results.append([predicted[i]])\n",
    "    # print(f'Row #{i} predicts {predicted[i]} and the actual label is {labels[i]}')\n",
    "    if predicted[i] != labels[i]:\n",
    "        incorrect_results += 1\n",
    "\n",
    "print(f'For a total of {len(features)} letters, {incorrect_results} were incorrect results for Base-MLP model.')\n",
    "csv_results = pd.DataFrame(results, columns=['Predicted'])\n",
    "csv_results.to_csv('Base-MLP-DS2.csv')\n",
    "confusion_matrix(labels,predicted)\n",
    "\n",
    "print(f'The precision score is {precision_score(labels,predicted, average=None)}, the recall score is {recall_score(labels,predicted, average=None)} and the f1 measure is {f1_score(labels,predicted, average=None)}')\n",
    "print(f'The accuracy score is {accuracy_score(labels,predicted)}')\n",
    "print(f'The macro f1 is {f1_score(labels,predicted, average=\"macro\",)}')\n",
    "print(f'The weighted f1 is {f1_score(labels,predicted, average=\"weighted\",)}')"
   ]
  },
  {
   "cell_type": "code",
   "execution_count": null,
   "metadata": {},
   "outputs": [],
   "source": []
  }
 ]
}
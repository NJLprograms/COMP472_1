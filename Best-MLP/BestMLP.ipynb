{
 "metadata": {
  "language_info": {
   "codemirror_mode": {
    "name": "ipython",
    "version": 3
   },
   "file_extension": ".py",
   "mimetype": "text/x-python",
   "name": "python",
   "nbconvert_exporter": "python",
   "pygments_lexer": "ipython3",
   "version": "3.8.3-final"
  },
  "orig_nbformat": 2,
  "kernelspec": {
   "name": "Python 3.8.3 64-bit ('base': conda)",
   "display_name": "Python 3.8.3 64-bit ('base': conda)",
   "metadata": {
    "interpreter": {
     "hash": "e0d100da2a8ea264dfb47a8430a9e30a2afabd950adf81b1e01ba12eb2b32acc"
    }
   }
  }
 },
 "nbformat": 4,
 "nbformat_minor": 2,
 "cells": [
  {
   "cell_type": "code",
   "execution_count": 2,
   "metadata": {},
   "outputs": [
    {
     "output_type": "stream",
     "name": "stdout",
     "text": [
      "For a total of 239 letters, 144 were incorrect results for Best-MLP model.\nThe precision score is [0.5        0.         0.4        0.         0.         0.\n 0.36363636 1.         0.28571429 0.45454545 0.34782609 0.42857143\n 0.55555556 0.24137931 0.5        0.6        0.8        0.26086957\n 0.         0.         0.         0.         0.83333333 0.\n 0.         0.        ], the recall score is [0.5        0.         0.8        0.         0.         0.\n 0.8        0.44444444 1.         0.5        0.8        0.9\n 0.5        0.7        0.8        0.3        0.4        0.6\n 0.         0.         0.         0.         0.55555556 0.\n 0.         0.        ] and the f1 measure is [0.5        0.         0.53333333 0.         0.         0.\n 0.5        0.61538462 0.44444444 0.47619048 0.48484848 0.58064516\n 0.52631579 0.35897436 0.61538462 0.4        0.53333333 0.36363636\n 0.         0.         0.         0.         0.66666667 0.\n 0.         0.        ]\nThe accuracy score is 0.39748953974895396\nThe macro f1 is 0.2922752939600268\nThe weighted f1 is 0.31259215542910346\n"
     ]
    }
   ],
   "source": [
    "from BestMLP import best_MLP_model\n",
    "import pandas as pd\n",
    "from numpy import mean\n",
    "from sklearn.metrics import confusion_matrix, recall_score, precision_score, f1_score, accuracy_score\n",
    "\n",
    "mlp = best_MLP_model('../Assig1-Dataset/train_1.csv')\n",
    "df = pd.read_csv('../Assig1-Dataset/val_1.csv', header=None)\n",
    "\n",
    "labels = df[1024]\n",
    "del df[1024]\n",
    "\n",
    "features = [feature for feature in df.to_numpy()]\n",
    "predicted = mlp.predict(features)\n",
    "\n",
    "results = []\n",
    "incorrect_results = 0\n",
    "for i in range(len(features)):\n",
    "    results.append([predicted[i]])\n",
    "    # print(f'Row #{i} predicts {predicted[i]} and the actual label is {labels[i]}')\n",
    "    if predicted[i] != labels[i]:\n",
    "        incorrect_results += 1\n",
    "\n",
    "print(f'For a total of {len(features)} letters, {incorrect_results} were incorrect results for Best-MLP model.')\n",
    "csv_results = pd.DataFrame(results, columns=['Predicted'])\n",
    "csv_results.to_csv('Best-MLP-DS1.csv')\n",
    "confusion_matrix(labels,predicted)\n",
    "\n",
    "print(f'The precision score is {precision_score(labels,predicted, average=None)}, the recall score is {recall_score(labels,predicted, average=None)} and the f1 measure is {f1_score(labels,predicted, average=None)}')\n",
    "\n",
    "print(f'The accuracy score is {accuracy_score(labels,predicted)}')\n",
    "print(f'The macro f1 is {f1_score(labels,predicted, average=\"macro\",)}')\n",
    "print(f'The weighted f1 is {f1_score(labels,predicted, average=\"weighted\",)}')"
   ]
  },
  {
   "cell_type": "code",
   "execution_count": 3,
   "metadata": {},
   "outputs": [
    {
     "output_type": "stream",
     "name": "stdout",
     "text": [
      "For a total of 239 letters, 133 were incorrect results for Best-MLP model.\nThe precision score is [0.66666667 0.         0.31034483 1.         0.         0.\n 0.64285714 0.8        0.33333333 0.4        0.39130435 0.55555556\n 0.5        0.28571429 0.38461538 0.4        1.         0.26923077\n 0.         0.         0.         1.         1.         0.\n 0.         1.        ], the recall score is [0.8        0.         0.9        0.25       0.         0.\n 0.9        0.44444444 1.         0.6        0.9        1.\n 0.4        0.6        0.5        0.4        0.6        0.7\n 0.         0.         0.         0.125      0.55555556 0.\n 0.         0.11111111] and the f1 measure is [0.72727273 0.         0.46153846 0.4        0.         0.\n 0.75       0.57142857 0.5        0.48       0.54545455 0.71428571\n 0.44444444 0.38709677 0.43478261 0.4        0.75       0.38888889\n 0.         0.         0.         0.22222222 0.71428571 0.\n 0.         0.2       ]\nThe accuracy score is 0.4435146443514644\nThe macro f1 is 0.3496807951042496\nThe weighted f1 is 0.36898262760228523\n"
     ]
    }
   ],
   "source": [
    "from BestMLP import best_MLP_model\n",
    "import pandas as pd\n",
    "from numpy import mean\n",
    "from sklearn.metrics import confusion_matrix, recall_score, precision_score, f1_score, accuracy_score\n",
    "\n",
    "mlp = best_MLP_model('../Assig1-Dataset/train_1.csv')\n",
    "df = pd.read_csv('../Assig1-Dataset/val_1.csv', header=None)\n",
    "\n",
    "labels = df[1024]\n",
    "del df[1024]\n",
    "\n",
    "features = [feature for feature in df.to_numpy()]\n",
    "predicted = mlp.predict(features)\n",
    "\n",
    "results = []\n",
    "incorrect_results = 0\n",
    "for i in range(len(features)):\n",
    "    results.append([predicted[i]])\n",
    "    # print(f'Row #{i} predicts {predicted[i]} and the actual label is {labels[i]}')\n",
    "    if predicted[i] != labels[i]:\n",
    "        incorrect_results += 1\n",
    "\n",
    "print(f'For a total of {len(features)} letters, {incorrect_results} were incorrect results for Best-MLP model.')\n",
    "csv_results = pd.DataFrame(results, columns=['Predicted'])\n",
    "csv_results.to_csv('Best-MLP-DS1.csv')\n",
    "confusion_matrix(labels,predicted)\n",
    "\n",
    "print(f'The precision score is {precision_score(labels,predicted, average=None)}, the recall score is {recall_score(labels,predicted, average=None)} and the f1 measure is {f1_score(labels,predicted, average=None)}')\n",
    "\n",
    "print(f'The accuracy score is {accuracy_score(labels,predicted)}')\n",
    "print(f'The macro f1 is {f1_score(labels,predicted, average=\"macro\",)}')\n",
    "print(f'The weighted f1 is {f1_score(labels,predicted, average=\"weighted\",)}')"
   ]
  },
  {
   "cell_type": "code",
   "execution_count": null,
   "metadata": {},
   "outputs": [],
   "source": []
  }
 ]
}
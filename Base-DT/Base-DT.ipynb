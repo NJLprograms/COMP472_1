{
 "metadata": {
  "language_info": {
   "codemirror_mode": {
    "name": "ipython",
    "version": 3
   },
   "file_extension": ".py",
   "mimetype": "text/x-python",
   "name": "python",
   "nbconvert_exporter": "python",
   "pygments_lexer": "ipython3",
   "version": "3.7.9-final"
  },
  "orig_nbformat": 2,
  "kernelspec": {
   "name": "Python 3.7.9 64-bit",
   "display_name": "Python 3.7.9 64-bit",
   "metadata": {
    "interpreter": {
     "hash": "31f2aee4e71d21fbe5cf8b01ff0e069b9275f58929596ceb00d14d90e3e16cd6"
    }
   }
  }
 },
 "nbformat": 4,
 "nbformat_minor": 2,
 "cells": [
  {
   "cell_type": "code",
   "execution_count": 11,
   "metadata": {
    "tags": []
   },
   "outputs": [
    {
     "output_type": "stream",
     "name": "stdout",
     "text": [
      "For a total of 239 letters, 125 were incorrect results for DT model.\nThe precision score is [0.41666667 0.28571429 0.75       0.2        0.41666667 0.25\n 0.6        0.66666667 0.58823529 0.625      0.875      0.64285714\n 0.42857143 0.4        0.25       0.33333333 0.4        0.42857143\n 0.25       0.66666667 1.         0.33333333 0.44444444 0.66666667\n 0.66666667 0.42857143], the recall score is [0.5        0.22222222 0.9        0.125      0.625      0.25\n 0.3        0.44444444 1.         0.5        0.7        0.9\n 0.6        0.6        0.3        0.5        0.4        0.3\n 0.33333333 0.5        0.375      0.25       0.44444444 0.25\n 0.5        0.33333333] and the f1 measure is [0.45454545 0.25       0.81818182 0.15384615 0.5        0.25\n 0.4        0.53333333 0.74074074 0.55555556 0.77777778 0.75\n 0.5        0.48       0.27272727 0.4        0.4        0.35294118\n 0.28571429 0.57142857 0.54545455 0.28571429 0.44444444 0.36363636\n 0.57142857 0.375     ]\nThe accuracy score is 0.4769874476987448\nThe macro f1 is 0.46278732119229854\nThe weighted f1 is 0.4684234077970233\n"
     ]
    }
   ],
   "source": [
    "from decisiontree import DT_model\n",
    "import pandas as pd\n",
    "from numpy import mean\n",
    "from sklearn.metrics import confusion_matrix, recall_score, precision_score, f1_score, accuracy_score\n",
    "\n",
    "model = DT_model('../Assig1-Dataset/train_1.csv')\n",
    "\n",
    "df = pd.read_csv('../Assig1-Dataset/val_1.csv', header=None)\n",
    "\n",
    "labels = df[1024].to_numpy()\n",
    "\n",
    "del df[1024]\n",
    "\n",
    "features = [feature for feature in df.to_numpy()]\n",
    "\n",
    "predicted = model.predict([feature for feature in features]).tolist()\n",
    "\n",
    "# test predict\n",
    "# predicted = model.predict([ feature for feature in features ]).tolist()\n",
    "\n",
    "results = []\n",
    "incorrect_results = 0\n",
    "for i in range(len(features)):\n",
    "    results.append([predicted[i]])\n",
    "    # print(f'Row #{i} predicts {predicted[i]} and the actual label is {labels[i]}')\n",
    "    if predicted[i] != labels[i]:\n",
    "        incorrect_results += 1\n",
    "    \n",
    "print(f'For a total of {len(features)} letters, {incorrect_results} were incorrect results for DT model.')\n",
    "csv_results = pd.DataFrame(results, columns=['Predicted'])\n",
    "csv_results.to_csv('BASE_DT_DS1.csv')\n",
    "confusion_matrix(labels,predicted)\n",
    "\n",
    "print(f'The precision score is {precision_score(labels,predicted, average=None)}, the recall score is {recall_score(labels,predicted, average=None)} and the f1 measure is {f1_score(labels,predicted, average=None)}')\n",
    "\n",
    "print(f'The accuracy score is {accuracy_score(labels,predicted)}')\n",
    "\n",
    "print(f'The macro f1 is {f1_score(labels,predicted, average=\"macro\",)}')\n",
    "print(f'The weighted f1 is {f1_score(labels,predicted, average=\"weighted\",)}')"
   ]
  },
  {
   "cell_type": "code",
   "execution_count": 10,
   "metadata": {
    "tags": []
   },
   "outputs": [
    {
     "output_type": "stream",
     "name": "stdout",
     "text": [
      "For a total of 1560 letters, 1496 were incorrect results for DT model.\nThe precision score is [0.09482759 0.08695652 0.         0.1        0.         0.21428571\n 0.         0.01315789 0.1512605  0.49019608 0.         0.\n 0.         0.         0.         0.         0.         0.\n 0.         0.         0.         0.         0.         0.\n 0.         0.        ], the recall score is [0.06666667 0.00533333 0.         0.02222222 0.         0.03636364\n 0.         0.02222222 0.12       0.06666667 0.         0.\n 0.         0.         0.         0.         0.         0.\n 0.         0.         0.         0.         0.         0.\n 0.         0.        ] and the f1 measure is [0.07829181 0.01005025 0.         0.03636364 0.         0.06217617\n 0.         0.01652893 0.133829   0.11737089 0.         0.\n 0.         0.         0.         0.         0.         0.\n 0.         0.         0.         0.         0.         0.\n 0.         0.        ]\nThe accuracy score is 0.041025641025641026\nThe macro f1 is 0.01748502624195337\nThe weighted f1 is 0.05988119248941556\n"
     ]
    }
   ],
   "source": [
    "from decisiontree import DT_model\n",
    "import pandas as pd\n",
    "from numpy import mean\n",
    "from sklearn.metrics import confusion_matrix, recall_score, precision_score, f1_score, accuracy_score\n",
    "\n",
    "model = DT_model('../Assig1-Dataset/train_2.csv')\n",
    "\n",
    "df = pd.read_csv('../Assig1-Dataset/val_2.csv', header=None)\n",
    "\n",
    "labels = df[1024].to_numpy()\n",
    "\n",
    "del df[1024]\n",
    "\n",
    "features = [feature for feature in df.to_numpy()]\n",
    "\n",
    "predicted = model.predict([feature for feature in features]).tolist()\n",
    "\n",
    "# test predict\n",
    "# predicted = model.predict([ feature for feature in features ]).tolist()\n",
    "\n",
    "results = []\n",
    "incorrect_results = 0\n",
    "for i in range(len(features)):\n",
    "    results.append([predicted[i]])\n",
    "    # print(f'Row #{i} predicts {predicted[i]} and the actual label is {labels[i]}')\n",
    "    if predicted[i] != labels[i]:\n",
    "        incorrect_results += 1\n",
    "    \n",
    "print(f'For a total of {len(features)} letters, {incorrect_results} were incorrect results for DT model.')\n",
    "csv_results = pd.DataFrame(results, columns=['Predicted'])\n",
    "csv_results.to_csv('BASE_DT_DS2.csv')\n",
    "confusion_matrix(labels,predicted)\n",
    "\n",
    "print(f'The precision score is {precision_score(labels,predicted, average=None)}, the recall score is {recall_score(labels,predicted, average=None)} and the f1 measure is {f1_score(labels,predicted, average=None)}')\n",
    "\n",
    "print(f'The accuracy score is {accuracy_score(labels,predicted)}')\n",
    "print(f'The macro f1 is {f1_score(labels,predicted, average=\"macro\",)}')\n",
    "print(f'The weighted f1 is {f1_score(labels,predicted, average=\"weighted\",)}')"
   ]
  },
  {
   "cell_type": "code",
   "execution_count": null,
   "metadata": {},
   "outputs": [],
   "source": []
  }
 ]
}
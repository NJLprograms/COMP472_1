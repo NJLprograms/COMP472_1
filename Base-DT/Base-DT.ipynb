{
 "metadata": {
  "language_info": {
   "codemirror_mode": {
    "name": "ipython",
    "version": 3
   },
   "file_extension": ".py",
   "mimetype": "text/x-python",
   "name": "python",
   "nbconvert_exporter": "python",
   "pygments_lexer": "ipython3",
   "version": "3.7.9-final"
  },
  "orig_nbformat": 2,
  "kernelspec": {
   "name": "Python 3.7.9 64-bit",
   "display_name": "Python 3.7.9 64-bit",
   "metadata": {
    "interpreter": {
     "hash": "31f2aee4e71d21fbe5cf8b01ff0e069b9275f58929596ceb00d14d90e3e16cd6"
    }
   }
  }
 },
 "nbformat": 4,
 "nbformat_minor": 2,
 "cells": [
  {
   "cell_type": "code",
   "execution_count": 6,
   "metadata": {
    "tags": []
   },
   "outputs": [
    {
     "output_type": "stream",
     "name": "stdout",
     "text": [
      "For a total of 239 letters, 126 were incorrect results for DT model.\nThe precision score is [0.45454545 0.25       0.72727273 0.5        0.4        0.22222222\n 0.5        0.42857143 0.46666667 0.44444444 0.875      0.66666667\n 0.46666667 0.33333333 0.23076923 0.35714286 0.625      0.55555556\n 0.27272727 0.83333333 0.6        0.4        0.41666667 0.66666667\n 0.8        0.33333333], the recall score is [0.5        0.11111111 0.8        0.375      0.5        0.25\n 0.5        0.33333333 0.7        0.4        0.7        0.8\n 0.7        0.5        0.3        0.5        0.5        0.5\n 0.33333333 0.625      0.375      0.25       0.55555556 0.25\n 0.5        0.22222222] and the f1 measure is [0.47619048 0.15384615 0.76190476 0.42857143 0.44444444 0.23529412\n 0.5        0.375      0.56       0.42105263 0.77777778 0.72727273\n 0.56       0.4        0.26086957 0.41666667 0.55555556 0.52631579\n 0.3        0.71428571 0.46153846 0.30769231 0.47619048 0.36363636\n 0.61538462 0.26666667]\nThe accuracy score is 0.47280334728033474\n"
     ]
    }
   ],
   "source": [
    "from decisiontree import DT_model\n",
    "import pandas as pd\n",
    "from sklearn.metrics import confusion_matrix, recall_score, precision_score, f1_score, accuracy_score\n",
    "\n",
    "model = DT_model('../Assig1-Dataset/train_1.csv')\n",
    "\n",
    "df = pd.read_csv('../Assig1-Dataset/val_1.csv', header=None)\n",
    "\n",
    "labels = df[1024].to_numpy()\n",
    "\n",
    "del df[1024]\n",
    "\n",
    "features = [feature for feature in df.to_numpy()]\n",
    "\n",
    "predicted = model.predict([feature for feature in features]).tolist()\n",
    "\n",
    "# test predict\n",
    "# predicted = model.predict([ feature for feature in features ]).tolist()\n",
    "\n",
    "results = []\n",
    "incorrect_results = 0\n",
    "for i in range(len(features)):\n",
    "    results.append([predicted[i]])\n",
    "    # print(f'Row #{i} predicts {predicted[i]} and the actual label is {labels[i]}')\n",
    "    if predicted[i] != labels[i]:\n",
    "        incorrect_results += 1\n",
    "    \n",
    "print(f'For a total of {len(features)} letters, {incorrect_results} were incorrect results for DT model.')\n",
    "csv_results = pd.DataFrame(results, columns=['Predicted'])\n",
    "csv_results.to_csv('BASE_DT_DS1.csv')\n",
    "confusion_matrix(labels,predicted)\n",
    "\n",
    "print(f'The precision score is {precision_score(labels,predicted, average=None)}, the recall score is {recall_score(labels,predicted, average=None)} and the f1 measure is {f1_score(labels,predicted, average=None)}')\n",
    "\n",
    "print(f'The accuracy score is {accuracy_score(labels,predicted)}')"
   ]
  },
  {
   "cell_type": "code",
   "execution_count": 5,
   "metadata": {
    "tags": []
   },
   "outputs": [
    {
     "output_type": "stream",
     "name": "stdout",
     "text": [
      "For a total of 1560 letters, 1502 were incorrect results for DT model.\nThe precision score is [0.1        0.03333333 0.         0.08333333 0.02       0.22222222\n 0.         0.         0.12931034 0.42       0.         0.\n 0.         0.         0.         0.         0.         0.\n 0.         0.         0.         0.         0.         0.\n 0.         0.        ], the recall score is [0.07272727 0.00266667 0.         0.04444444 0.00666667 0.03636364\n 0.         0.         0.1        0.056      0.         0.\n 0.         0.         0.         0.         0.         0.\n 0.         0.         0.         0.         0.         0.\n 0.         0.        ] and the f1 measure is [0.08421053 0.00493827 0.         0.05797101 0.01       0.0625\n 0.         0.         0.11278195 0.09882353 0.         0.\n 0.         0.         0.         0.         0.         0.\n 0.         0.         0.         0.         0.         0.\n 0.         0.        ]\nThe accuracy score is 0.03717948717948718\n"
     ]
    }
   ],
   "source": [
    "from decisiontree import DT_model\n",
    "import pandas as pd\n",
    "from sklearn.metrics import confusion_matrix, recall_score, precision_score, f1_score, accuracy_score\n",
    "\n",
    "model = DT_model('../Assig1-Dataset/train_2.csv')\n",
    "\n",
    "df = pd.read_csv('../Assig1-Dataset/val_2.csv', header=None)\n",
    "\n",
    "labels = df[1024].to_numpy()\n",
    "\n",
    "del df[1024]\n",
    "\n",
    "features = [feature for feature in df.to_numpy()]\n",
    "\n",
    "predicted = model.predict([feature for feature in features]).tolist()\n",
    "\n",
    "# test predict\n",
    "# predicted = model.predict([ feature for feature in features ]).tolist()\n",
    "\n",
    "results = []\n",
    "incorrect_results = 0\n",
    "for i in range(len(features)):\n",
    "    results.append([predicted[i]])\n",
    "    # print(f'Row #{i} predicts {predicted[i]} and the actual label is {labels[i]}')\n",
    "    if predicted[i] != labels[i]:\n",
    "        incorrect_results += 1\n",
    "    \n",
    "print(f'For a total of {len(features)} letters, {incorrect_results} were incorrect results for DT model.')\n",
    "csv_results = pd.DataFrame(results, columns=['Predicted'])\n",
    "csv_results.to_csv('BASE_DT_DS2.csv')\n",
    "confusion_matrix(labels,predicted)\n",
    "\n",
    "print(f'The precision score is {precision_score(labels,predicted, average=None)}, the recall score is {recall_score(labels,predicted, average=None)} and the f1 measure is {f1_score(labels,predicted, average=None)}')\n",
    "\n",
    "print(f'The accuracy score is {accuracy_score(labels,predicted)}')"
   ]
  },
  {
   "cell_type": "code",
   "execution_count": null,
   "metadata": {},
   "outputs": [],
   "source": []
  }
 ]
}
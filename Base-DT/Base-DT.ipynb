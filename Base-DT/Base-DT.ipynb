{
 "metadata": {
  "language_info": {
   "codemirror_mode": {
    "name": "ipython",
    "version": 3
   },
   "file_extension": ".py",
   "mimetype": "text/x-python",
   "name": "python",
   "nbconvert_exporter": "python",
   "pygments_lexer": "ipython3",
   "version": "3.7.9-final"
  },
  "orig_nbformat": 2,
  "kernelspec": {
   "name": "Python 3.7.9 64-bit",
   "display_name": "Python 3.7.9 64-bit",
   "metadata": {
    "interpreter": {
     "hash": "31f2aee4e71d21fbe5cf8b01ff0e069b9275f58929596ceb00d14d90e3e16cd6"
    }
   }
  }
 },
 "nbformat": 4,
 "nbformat_minor": 2,
 "cells": [
  {
   "cell_type": "code",
   "execution_count": 8,
   "metadata": {
    "tags": []
   },
   "outputs": [
    {
     "output_type": "stream",
     "name": "stdout",
     "text": [
      "For a total of 239 letters, 125 were incorrect results for DT model.\nThe precision score is [0.33333333 0.25       0.66666667 0.5        0.33333333 0.15384615\n 0.5        0.375      0.52941176 0.5        1.         0.53333333\n 0.5        0.5        0.4        0.45454545 0.5        0.625\n 0.36363636 0.5        0.6        0.28571429 0.55555556 0.66666667\n 0.66666667 0.4       ], the recall score is [0.5        0.11111111 0.8        0.25       0.375      0.25\n 0.3        0.33333333 0.9        0.5        0.7        0.8\n 0.7        0.6        0.4        0.5        0.5        0.5\n 0.44444444 0.5        0.375      0.25       0.55555556 0.25\n 0.5        0.22222222] and the f1 measure is [0.4        0.15384615 0.72727273 0.33333333 0.35294118 0.19047619\n 0.375      0.35294118 0.66666667 0.5        0.82352941 0.64\n 0.58333333 0.54545455 0.4        0.47619048 0.5        0.55555556\n 0.4        0.5        0.46153846 0.26666667 0.55555556 0.36363636\n 0.57142857 0.28571429]\nThe accuracy score is 0.4769874476987448\nThe macro f1 is 0.46081079428364496\n"
     ]
    }
   ],
   "source": [
    "from decisiontree import DT_model\n",
    "import pandas as pd\n",
    "from numpy import mean\n",
    "from sklearn.metrics import confusion_matrix, recall_score, precision_score, f1_score, accuracy_score\n",
    "\n",
    "model = DT_model('../Assig1-Dataset/train_1.csv')\n",
    "\n",
    "df = pd.read_csv('../Assig1-Dataset/val_1.csv', header=None)\n",
    "\n",
    "labels = df[1024].to_numpy()\n",
    "\n",
    "del df[1024]\n",
    "\n",
    "features = [feature for feature in df.to_numpy()]\n",
    "\n",
    "predicted = model.predict([feature for feature in features]).tolist()\n",
    "\n",
    "# test predict\n",
    "# predicted = model.predict([ feature for feature in features ]).tolist()\n",
    "\n",
    "results = []\n",
    "incorrect_results = 0\n",
    "for i in range(len(features)):\n",
    "    results.append([predicted[i]])\n",
    "    # print(f'Row #{i} predicts {predicted[i]} and the actual label is {labels[i]}')\n",
    "    if predicted[i] != labels[i]:\n",
    "        incorrect_results += 1\n",
    "    \n",
    "print(f'For a total of {len(features)} letters, {incorrect_results} were incorrect results for DT model.')\n",
    "csv_results = pd.DataFrame(results, columns=['Predicted'])\n",
    "csv_results.to_csv('BASE_DT_DS1.csv')\n",
    "confusion_matrix(labels,predicted)\n",
    "\n",
    "print(f'The precision score is {precision_score(labels,predicted, average=None)}, the recall score is {recall_score(labels,predicted, average=None)} and the f1 measure is {f1_score(labels,predicted, average=None)}')\n",
    "\n",
    "print(f'The accuracy score is {accuracy_score(labels,predicted)}')\n",
    "\n",
    "print(f'The macro f1 is {mean(f1_score(labels,predicted, average=None))}')"
   ]
  },
  {
   "cell_type": "code",
   "execution_count": 9,
   "metadata": {
    "tags": []
   },
   "outputs": [
    {
     "output_type": "stream",
     "name": "stdout",
     "text": [
      "For a total of 1560 letters, 1504 were incorrect results for DT model.\nThe precision score is [0.07438017 0.025      0.         0.         0.         0.13636364\n 0.04347826 0.15584416 0.15463918 0.3125     0.         0.\n 0.         0.         0.         0.         0.         0.\n 0.         0.         0.         0.         0.         0.\n 0.         0.        ], the recall score is [0.05454545 0.00266667 0.         0.         0.         0.01818182\n 0.02222222 0.26666667 0.1        0.04       0.         0.\n 0.         0.         0.         0.         0.         0.\n 0.         0.         0.         0.         0.         0.\n 0.         0.        ] and the f1 measure is [0.06293706 0.00481928 0.         0.         0.         0.03208556\n 0.02941176 0.19672131 0.12145749 0.07092199 0.         0.\n 0.         0.         0.         0.         0.         0.\n 0.         0.         0.         0.         0.         0.\n 0.         0.        ]\nThe accuracy score is 0.035897435897435895\nThe macro f1 is 0.01993670974685617\n"
     ]
    }
   ],
   "source": [
    "from decisiontree import DT_model\n",
    "import pandas as pd\n",
    "from numpy import mean\n",
    "from sklearn.metrics import confusion_matrix, recall_score, precision_score, f1_score, accuracy_score\n",
    "\n",
    "model = DT_model('../Assig1-Dataset/train_2.csv')\n",
    "\n",
    "df = pd.read_csv('../Assig1-Dataset/val_2.csv', header=None)\n",
    "\n",
    "labels = df[1024].to_numpy()\n",
    "\n",
    "del df[1024]\n",
    "\n",
    "features = [feature for feature in df.to_numpy()]\n",
    "\n",
    "predicted = model.predict([feature for feature in features]).tolist()\n",
    "\n",
    "# test predict\n",
    "# predicted = model.predict([ feature for feature in features ]).tolist()\n",
    "\n",
    "results = []\n",
    "incorrect_results = 0\n",
    "for i in range(len(features)):\n",
    "    results.append([predicted[i]])\n",
    "    # print(f'Row #{i} predicts {predicted[i]} and the actual label is {labels[i]}')\n",
    "    if predicted[i] != labels[i]:\n",
    "        incorrect_results += 1\n",
    "    \n",
    "print(f'For a total of {len(features)} letters, {incorrect_results} were incorrect results for DT model.')\n",
    "csv_results = pd.DataFrame(results, columns=['Predicted'])\n",
    "csv_results.to_csv('BASE_DT_DS2.csv')\n",
    "confusion_matrix(labels,predicted)\n",
    "\n",
    "print(f'The precision score is {precision_score(labels,predicted, average=None)}, the recall score is {recall_score(labels,predicted, average=None)} and the f1 measure is {f1_score(labels,predicted, average=None)}')\n",
    "\n",
    "print(f'The accuracy score is {accuracy_score(labels,predicted)}')\n",
    "print(f'The macro f1 is {mean(f1_score(labels,predicted, average=None))}')"
   ]
  },
  {
   "cell_type": "code",
   "execution_count": null,
   "metadata": {},
   "outputs": [],
   "source": []
  }
 ]
}
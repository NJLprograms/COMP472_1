{
 "metadata": {
  "language_info": {
   "codemirror_mode": {
    "name": "ipython",
    "version": 3
   },
   "file_extension": ".py",
   "mimetype": "text/x-python",
   "name": "python",
   "nbconvert_exporter": "python",
   "pygments_lexer": "ipython3",
   "version": "3.7.9-final"
  },
  "orig_nbformat": 2,
  "kernelspec": {
   "name": "Python 3.7.9 64-bit",
   "display_name": "Python 3.7.9 64-bit",
   "metadata": {
    "interpreter": {
     "hash": "31f2aee4e71d21fbe5cf8b01ff0e069b9275f58929596ceb00d14d90e3e16cd6"
    }
   }
  }
 },
 "nbformat": 4,
 "nbformat_minor": 2,
 "cells": [
  {
   "cell_type": "code",
   "execution_count": 4,
   "metadata": {
    "tags": []
   },
   "outputs": [
    {
     "output_type": "stream",
     "name": "stdout",
     "text": [
      "For a total of 239 letters, 129 were incorrect results for DT model.\nThe precision score is [0.33333333 0.4        0.69230769 0.375      0.375      0.2\n 0.33333333 0.42857143 0.5        0.5        1.         0.64285714\n 0.42105263 0.44444444 0.33333333 0.38461538 0.5        0.42857143\n 0.27272727 0.57142857 0.6        0.33333333 0.55555556 0.66666667\n 0.66666667 0.28571429], the recall score is [0.5        0.22222222 0.9        0.375      0.375      0.25\n 0.3        0.33333333 0.7        0.4        0.7        0.9\n 0.8        0.4        0.3        0.5        0.5        0.3\n 0.33333333 0.5        0.375      0.25       0.55555556 0.25\n 0.5        0.22222222] and the f1 measure is [0.4        0.28571429 0.7826087  0.375      0.375      0.22222222\n 0.31578947 0.375      0.58333333 0.44444444 0.82352941 0.75\n 0.55172414 0.42105263 0.31578947 0.43478261 0.5        0.35294118\n 0.3        0.53333333 0.46153846 0.28571429 0.55555556 0.36363636\n 0.57142857 0.25      ]\n"
     ]
    }
   ],
   "source": [
    "from decisiontree import DT_model\n",
    "import pandas as pd\n",
    "from sklearn.metrics import confusion_matrix, recall_score, precision_score, f1_score\n",
    "\n",
    "model = DT_model('../Assig1-Dataset/train_1.csv')\n",
    "\n",
    "df = pd.read_csv('../Assig1-Dataset/val_1.csv', header=None)\n",
    "\n",
    "labels = df[1024].to_numpy()\n",
    "\n",
    "del df[1024]\n",
    "\n",
    "features = [feature for feature in df.to_numpy()]\n",
    "\n",
    "predicted = model.predict([feature for feature in features]).tolist()\n",
    "\n",
    "# test predict\n",
    "# predicted = model.predict([ feature for feature in features ]).tolist()\n",
    "\n",
    "results = []\n",
    "incorrect_results = 0\n",
    "for i in range(len(features)):\n",
    "    results.append([predicted[i]])\n",
    "    # print(f'Row #{i} predicts {predicted[i]} and the actual label is {labels[i]}')\n",
    "    if predicted[i] != labels[i]:\n",
    "        incorrect_results += 1\n",
    "    \n",
    "print(f'For a total of {len(features)} letters, {incorrect_results} were incorrect results for DT model.')\n",
    "csv_results = pd.DataFrame(results, columns=['Predicted'])\n",
    "csv_results.to_csv('BASE_DT_DS1.csv')\n",
    "confusion_matrix(labels,predicted)\n",
    "\n",
    "print(f'The precision score is {precision_score(labels,predicted, average=None)}, the recall score is {recall_score(labels,predicted, average=None)} and the f1 measure is {f1_score(labels,predicted, average=None)}') "
   ]
  },
  {
   "cell_type": "code",
   "execution_count": 3,
   "metadata": {
    "tags": []
   },
   "outputs": [
    {
     "output_type": "stream",
     "name": "stdout",
     "text": [
      "For a total of 1560 letters, 1505 were incorrect results for DT model.\nThe precision score is [0.10784314 0.11428571 0.         0.         0.         0.125\n 0.1        0.02739726 0.112      0.30188679 0.         0.\n 0.         0.         0.         0.         0.         0.\n 0.         0.         0.         0.         0.         0.\n 0.         0.        ], the recall score is [0.06666667 0.01066667 0.         0.         0.         0.01212121\n 0.13333333 0.04444444 0.09333333 0.04266667 0.         0.\n 0.         0.         0.         0.         0.         0.\n 0.         0.         0.         0.         0.         0.\n 0.         0.        ] and the f1 measure is [0.082397   0.0195122  0.         0.         0.         0.02209945\n 0.11428571 0.03389831 0.10181818 0.07476636 0.         0.\n 0.         0.         0.         0.         0.         0.\n 0.         0.         0.         0.         0.         0.\n 0.         0.        ]\n"
     ]
    }
   ],
   "source": [
    "from decisiontree import DT_model\n",
    "import pandas as pd\n",
    "from sklearn.metrics import confusion_matrix, recall_score, precision_score, f1_score\n",
    "\n",
    "model = DT_model('../Assig1-Dataset/train_2.csv')\n",
    "\n",
    "df = pd.read_csv('../Assig1-Dataset/val_2.csv', header=None)\n",
    "\n",
    "labels = df[1024].to_numpy()\n",
    "\n",
    "del df[1024]\n",
    "\n",
    "features = [feature for feature in df.to_numpy()]\n",
    "\n",
    "predicted = model.predict([feature for feature in features]).tolist()\n",
    "\n",
    "# test predict\n",
    "# predicted = model.predict([ feature for feature in features ]).tolist()\n",
    "\n",
    "results = []\n",
    "incorrect_results = 0\n",
    "for i in range(len(features)):\n",
    "    results.append([predicted[i]])\n",
    "    # print(f'Row #{i} predicts {predicted[i]} and the actual label is {labels[i]}')\n",
    "    if predicted[i] != labels[i]:\n",
    "        incorrect_results += 1\n",
    "    \n",
    "print(f'For a total of {len(features)} letters, {incorrect_results} were incorrect results for DT model.')\n",
    "csv_results = pd.DataFrame(results, columns=['Predicted'])\n",
    "csv_results.to_csv('BASE_DT_DS2.csv')\n",
    "confusion_matrix(labels,predicted)\n",
    "\n",
    "print(f'The precision score is {precision_score(labels,predicted, average=None)}, the recall score is {recall_score(labels,predicted, average=None)} and the f1 measure is {f1_score(labels,predicted, average=None)}') "
   ]
  },
  {
   "cell_type": "code",
   "execution_count": null,
   "metadata": {},
   "outputs": [],
   "source": []
  }
 ]
}
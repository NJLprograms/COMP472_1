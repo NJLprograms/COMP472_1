{
 "metadata": {
  "language_info": {
   "codemirror_mode": {
    "name": "ipython",
    "version": 3
   },
   "file_extension": ".py",
   "mimetype": "text/x-python",
   "name": "python",
   "nbconvert_exporter": "python",
   "pygments_lexer": "ipython3",
   "version": "3.8.3-final"
  },
  "orig_nbformat": 2,
  "kernelspec": {
   "name": "Python 3.8.3 64-bit ('base': conda)",
   "display_name": "Python 3.8.3 64-bit ('base': conda)",
   "metadata": {
    "interpreter": {
     "hash": "e0d100da2a8ea264dfb47a8430a9e30a2afabd950adf81b1e01ba12eb2b32acc"
    }
   }
  }
 },
 "nbformat": 4,
 "nbformat_minor": 2,
 "cells": [
  {
   "cell_type": "code",
   "execution_count": 2,
   "metadata": {
    "tags": []
   },
   "outputs": [],
   "source": [
    "from gauss import GNB_model\n",
    "import pandas as pd\n",
    "from numpy import mean\n",
    "from sklearn.metrics import confusion_matrix, recall_score, precision_score,f1_score, accuracy_score\n",
    "\n",
    "model = GNB_model('../Assig1-Dataset/train_1.csv')\n",
    "\n",
    "# get validation csv to try model on\n",
    "df = pd.read_csv('../Assig1-Dataset/7.csv', header=None)\n",
    "# labels = df[1024]\n",
    "\n",
    "# del df[1024]\n",
    "features = [x for x in df.to_numpy()]\n",
    "\n",
    "# predict based on data and transform into a list object in order to index\n",
    "predicted = model.predict([ feature for feature in features ]).tolist()\n",
    "\n",
    "# print results\n",
    "incorrect_results = 0\n",
    "\n",
    "results = []\n",
    "for i in range(len(features)):\n",
    "    results.append([predicted[i]])\n",
    "    # print(f'Row #{i} predicts {predicted[i]} and the actual label is {labels[i]}')\n",
    "#     if predicted[i] != labels[i]:\n",
    "#         incorrect_results += 1\n",
    "# print(f'For a total of {len(features)} letters, {incorrect_results} were incorrect results for GNB model.')\n",
    "csv_results = pd.DataFrame(results, columns=['Predicted'])\n",
    "csv_results.to_csv('GNB-DS1.csv')\n",
    "\n",
    "# confusion_matrix(labels,predicted)\n",
    "# print(f'The precision score is {precision_score(labels,predicted, average=None)}, the recall score is {recall_score(labels,predicted, average=None)} and the f1 measure is {f1_score(labels,predicted, average=None)}')\n",
    "\n",
    "# print(f'The accuracy score is {accuracy_score(labels,predicted)}')\n",
    "# print(f'The macro f1 is {f1_score(labels,predicted, average=\"macro\",)}')\n",
    "# print(f'The weighted f1 is {f1_score(labels,predicted, average=\"weighted\",)}')"
   ]
  },
  {
   "cell_type": "code",
   "execution_count": 1,
   "metadata": {
    "tags": []
   },
   "outputs": [],
   "source": [
    "from gauss import GNB_model\n",
    "import pandas as pd\n",
    "from numpy import mean \n",
    "from sklearn.metrics import confusion_matrix, recall_score, precision_score, f1_score, accuracy_score\n",
    "from utils.plot import plot_distribution\n",
    "\n",
    "\n",
    "model = GNB_model('../Assig1-Dataset/train_2.csv')\n",
    "\n",
    "# get validation csv to try model on\n",
    "df = pd.read_csv('../Assig1-Dataset/7.csv', header=None)\n",
    "# labels = df[1024]\n",
    "\n",
    "# del df[1024]\n",
    "features = [x for x in df.to_numpy()]\n",
    "\n",
    "# predict based on data and transform into a list object in order to index\n",
    "predicted = model.predict([ feature for feature in features ]).tolist()\n",
    "\n",
    "# print results\n",
    "incorrect_results = 0\n",
    "\n",
    "results = []\n",
    "for i in range(len(features)):\n",
    "    results.append([predicted[i]])\n",
    "#     print(f'Row #{i} predicts {predicted[i]} and the actual label is {labels[i]}')\n",
    "#     if predicted[i] != labels[i]:\n",
    "#         incorrect_results += 1\n",
    "    \n",
    "# print(f'For a total of {len(features)} letters, {incorrect_results} were incorrect results for GNB model.')\n",
    "csv_results = pd.DataFrame(results, columns=['Predicted'])\n",
    "csv_results.to_csv('GNB-DS2.csv')\n",
    "\n",
    "# confusion_matrix(labels,predicted)\n",
    "\n",
    "# print(f'The precision score is {precision_score(labels,predicted, average=None)}, the recall score is {recall_score(labels,predicted, average=None)} and the f1 measure is {f1_score(labels,predicted, average=None)}')\n",
    "\n",
    "# print(f'The accuracy score is {accuracy_score(labels,predicted)}')\n",
    "# print(f'The macro f1 is {f1_score(labels,predicted, average=\"macro\",)}')\n",
    "# print(f'The weighted f1 is {f1_score(labels,predicted, average=\"weighted\",)}')\n"
   ]
  },
  {
   "cell_type": "code",
   "execution_count": null,
   "metadata": {},
   "outputs": [],
   "source": []
  }
 ]
}
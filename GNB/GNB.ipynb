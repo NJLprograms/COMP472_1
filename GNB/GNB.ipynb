{
 "metadata": {
  "language_info": {
   "codemirror_mode": {
    "name": "ipython",
    "version": 3
   },
   "file_extension": ".py",
   "mimetype": "text/x-python",
   "name": "python",
   "nbconvert_exporter": "python",
   "pygments_lexer": "ipython3",
   "version": "3.8.3-final"
  },
  "orig_nbformat": 2,
  "kernelspec": {
   "name": "Python 3.8.3 64-bit ('base': conda)",
   "display_name": "Python 3.8.3 64-bit ('base': conda)",
   "metadata": {
    "interpreter": {
     "hash": "36bd2fd3f0ddd2b8653abd7aac0d7ae65199260df87733a4fe12bdc373c60cd3"
    }
   }
  }
 },
 "nbformat": 4,
 "nbformat_minor": 2,
 "cells": [
  {
   "cell_type": "code",
   "execution_count": 80,
   "metadata": {
    "tags": []
   },
   "outputs": [],
   "source": [
    "import pandas as pd\n",
    "from sklearn.naive_bayes import GaussianNB\n",
    "\n",
    "def GNB_model (file_path, result_name):\n",
    "    df = pd.read_csv (file_path, header=None)\n",
    "\n",
    "    # the label is the last column of the dataset\n",
    "    label = df[1024].to_numpy()\n",
    "\n",
    "    # deletes label of EACH ROW (somehow pandas makes magic like this happen) and sends features to array\n",
    "    del df[1024]\n",
    "\n",
    "    # df.to_numpy() is csv in 2d array format\n",
    "    features = [x for x in df.to_numpy()]\n",
    "\n",
    "    # fit model \n",
    "    model = GaussianNB()\n",
    "    model.fit(features,label)\n",
    "\n",
    "    # predict based on data and transform into a list object in order to index\n",
    "    predicted = model.predict([ feature for feature in features ]).tolist()\n",
    "\n",
    "    # print results\n",
    "    incorrect_results = 0\n",
    "  \n",
    "    results = []\n",
    "    for i in range(len(features)):\n",
    "        results.append([predicted[i]])\n",
    "        # print(f'Row #{i} predicts {predicted[i]} and the actual label is {label[i]}')\n",
    "        # if predicted[i] != label[i]:\n",
    "        #     incorrect_results += 1\n",
    "        \n",
    "    # print(f'For a total of {len(features)} letters, {incorrect_results} were incorrect results for GNB model.')\n",
    "    csv_results = pd.DataFrame(results, columns=['Predicted'])\n",
    "    csv_results.to_csv(result_name)\n",
    "\n",
    "\n",
    "GNB_model('../Assig1-Dataset/train_1.csv', 'GNB-DS1.csv')"
   ]
  },
  {
   "cell_type": "code",
   "execution_count": 79,
   "metadata": {
    "tags": []
   },
   "outputs": [],
   "source": [
    "import pandas as pd\n",
    "from sklearn.naive_bayes import GaussianNB\n",
    "\n",
    "import pandas as pd\n",
    "from sklearn.naive_bayes import GaussianNB\n",
    "\n",
    "def GNB_model (file_path, result_name):\n",
    "    df = pd.read_csv (file_path, header=None)\n",
    "\n",
    "    # the label is the last column of the dataset\n",
    "    label = df[1024].to_numpy()\n",
    "\n",
    "    # deletes label of EACH ROW (somehow pandas makes magic like this happen) and sends features to array\n",
    "    del df[1024]\n",
    "\n",
    "    # df.to_numpy() is csv in 2d array format\n",
    "    features = [x for x in df.to_numpy()]\n",
    "\n",
    "    # fit model \n",
    "    model = GaussianNB()\n",
    "    model.fit(features,label)\n",
    "\n",
    "    # predict based on data and transform into a list object in order to index\n",
    "    predicted = model.predict([ feature for feature in features ]).tolist()\n",
    "\n",
    "    # print results\n",
    "    incorrect_results = 0\n",
    "  \n",
    "    results = []\n",
    "    for i in range(len(features)):\n",
    "        results.append([predicted[i]])\n",
    "        # print(f'Row #{i} predicts {predicted[i]} and the actual label is {label[i]}')\n",
    "        # if predicted[i] != label[i]:\n",
    "        #     incorrect_results += 1\n",
    "        \n",
    "    # print(f'For a total of {len(features)} letters, {incorrect_results} were incorrect results for GNB model.')\n",
    "    csv_results = pd.DataFrame(results, columns=['Predicted'])\n",
    "    csv_results.to_csv(result_name)\n",
    "\n",
    "\n",
    "GNB_model('../Assig1-Dataset/train_2.csv', 'GNB-DS2.csv')"
   ]
  },
  {
   "cell_type": "code",
   "execution_count": null,
   "metadata": {},
   "outputs": [],
   "source": []
  }
 ]
}
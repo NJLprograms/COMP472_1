{
 "metadata": {
  "language_info": {
   "codemirror_mode": {
    "name": "ipython",
    "version": 3
   },
   "file_extension": ".py",
   "mimetype": "text/x-python",
   "name": "python",
   "nbconvert_exporter": "python",
   "pygments_lexer": "ipython3",
   "version": "3.7.9-final"
  },
  "orig_nbformat": 2,
  "kernelspec": {
   "name": "Python 3.7.9 64-bit",
   "display_name": "Python 3.7.9 64-bit",
   "metadata": {
    "interpreter": {
     "hash": "31f2aee4e71d21fbe5cf8b01ff0e069b9275f58929596ceb00d14d90e3e16cd6"
    }
   }
  }
 },
 "nbformat": 4,
 "nbformat_minor": 2,
 "cells": [
  {
   "cell_type": "code",
   "execution_count": 17,
   "metadata": {
    "tags": []
   },
   "outputs": [
    {
     "output_type": "stream",
     "name": "stdout",
     "text": [
      "For a total of 239 letters, 77 were incorrect results for GNB model.\nThe precision score is [0.55555556 0.4        1.         0.72727273 0.83333333 0.71428571\n 1.         1.         0.81818182 1.         0.77777778 1.\n 0.14814815 0.75       0.63636364 0.75       0.58333333 0.54545455\n 1.         0.8        1.         0.8        0.61538462 1.\n 1.         0.81818182], the recall score is [0.5        0.88888889 0.6        1.         0.625      0.625\n 0.7        0.44444444 0.9        0.6        0.7        1.\n 0.4        0.6        0.7        0.9        0.7        0.6\n 0.66666667 0.5        0.375      0.5        0.88888889 0.375\n 0.75       1.        ] and the f1 measure is [0.52631579 0.55172414 0.75       0.84210526 0.71428571 0.66666667\n 0.82352941 0.61538462 0.85714286 0.75       0.73684211 1.\n 0.21621622 0.66666667 0.66666667 0.81818182 0.63636364 0.57142857\n 0.8        0.61538462 0.54545455 0.61538462 0.72727273 0.54545455\n 0.85714286 0.9       ]\n"
     ]
    }
   ],
   "source": [
    "from gauss import GNB_model\n",
    "import pandas as pd\n",
    "from sklearn.metrics import confusion_matrix, recall_score, precision_score,f1_score\n",
    "\n",
    "model = GNB_model('../Assig1-Dataset/train_1.csv')\n",
    "\n",
    "# get validation csv to try model on\n",
    "df = pd.read_csv('../Assig1-Dataset/val_1.csv', header=None)\n",
    "labels = df[1024]\n",
    "\n",
    "del df[1024]\n",
    "features = [x for x in df.to_numpy()]\n",
    "\n",
    "# predict based on data and transform into a list object in order to index\n",
    "predicted = model.predict([ feature for feature in features ]).tolist()\n",
    "\n",
    "# print results\n",
    "incorrect_results = 0\n",
    "\n",
    "results = []\n",
    "for i in range(len(features)):\n",
    "    results.append([predicted[i]])\n",
    "    # print(f'Row #{i} predicts {predicted[i]} and the actual label is {labels[i]}')\n",
    "    if predicted[i] != labels[i]:\n",
    "        incorrect_results += 1\n",
    "print(f'For a total of {len(features)} letters, {incorrect_results} were incorrect results for GNB model.')\n",
    "csv_results = pd.DataFrame(results, columns=['Predicted'])\n",
    "csv_results.to_csv('GNB-DS1.csv')\n",
    "\n",
    "confusion_matrix(labels,predicted)\n",
    "print(f'The precision score is {precision_score(labels,predicted, average=None)}, the recall score is {recall_score(labels,predicted, average=None)} and the f1 measure is {f1_score(labels,predicted, average=None)}') "
   ]
  },
  {
   "cell_type": "code",
   "execution_count": 8,
   "metadata": {
    "tags": []
   },
   "outputs": [
    {
     "output_type": "stream",
     "name": "stdout",
     "text": [
      "For a total of 1560 letters, 541 were incorrect results for GNB model.\n"
     ]
    },
    {
     "output_type": "execute_result",
     "data": {
      "text/plain": [
       "array([[ 60,  11,   3,  60,  29,   0,   0,   0,   1,   1],\n",
       "       [ 14, 341,   2,  14,   1,   2,   0,   1,   0,   0],\n",
       "       [  6,   0,  29,   0,   0,   1,   4,   0,   2,   3],\n",
       "       [  1,   3,   1,  40,   0,   0,   0,   0,   0,   0],\n",
       "       [  5,   1,   6,   7,  68,   4,   8,   0,   1,  50],\n",
       "       [  5,   0,   4,  11,   6,  91,  14,   0,   2,  32],\n",
       "       [  0,   1,   0,   0,   0,   0,  42,   0,   1,   1],\n",
       "       [  1,   3,   0,   1,   0,   0,   0,  39,   0,   1],\n",
       "       [  6,   6,  65,   2,   0,   1,  16,   1,  48,   5],\n",
       "       [  6,   2,  10,   2,  11,  19,  63,   0,   1, 261]])"
      ]
     },
     "metadata": {},
     "execution_count": 8
    }
   ],
   "source": [
    "from gauss import GNB_model\n",
    "import pandas as pd\n",
    "from sklearn.metrics import confusion_matrix, recall_score, precision_score, f1_score\n",
    "\n",
    "model = GNB_model('../Assig1-Dataset/train_2.csv')\n",
    "\n",
    "# get validation csv to try model on\n",
    "df = pd.read_csv('../Assig1-Dataset/val_2.csv', header=None)\n",
    "labels = df[1024]\n",
    "\n",
    "del df[1024]\n",
    "features = [x for x in df.to_numpy()]\n",
    "\n",
    "# predict based on data and transform into a list object in order to index\n",
    "predicted = model.predict([ feature for feature in features ]).tolist()\n",
    "\n",
    "# print results\n",
    "incorrect_results = 0\n",
    "\n",
    "results = []\n",
    "for i in range(len(features)):\n",
    "    results.append([predicted[i]])\n",
    "    # print(f'Row #{i} predicts {predicted[i]} and the actual label is {labels[i]}')\n",
    "    if predicted[i] != labels[i]:\n",
    "        incorrect_results += 1\n",
    "    \n",
    "print(f'For a total of {len(features)} letters, {incorrect_results} were incorrect results for GNB model.')\n",
    "csv_results = pd.DataFrame(results, columns=['Predicted'])\n",
    "csv_results.to_csv('GNB-DS2.csv')\n",
    "\n",
    "confusion_matrix(labels,predicted)\n",
    "\n",
    "print(f'The precision score is {precision_score(labels,predicted, average=None)}, the recall score is {recall_score(labels,predicted, average=None)} and the f1 measure is {f1_score(labels,predicted, average=None)}') \n"
   ]
  },
  {
   "cell_type": "code",
   "execution_count": null,
   "metadata": {},
   "outputs": [],
   "source": []
  }
 ]
}
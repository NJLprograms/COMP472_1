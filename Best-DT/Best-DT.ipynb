{
 "metadata": {
  "language_info": {
   "codemirror_mode": {
    "name": "ipython",
    "version": 3
   },
   "file_extension": ".py",
   "mimetype": "text/x-python",
   "name": "python",
   "nbconvert_exporter": "python",
   "pygments_lexer": "ipython3",
   "version": "3.7.9-final"
  },
  "orig_nbformat": 2,
  "kernelspec": {
   "name": "Python 3.7.9 64-bit",
   "display_name": "Python 3.7.9 64-bit",
   "metadata": {
    "interpreter": {
     "hash": "31f2aee4e71d21fbe5cf8b01ff0e069b9275f58929596ceb00d14d90e3e16cd6"
    }
   }
  }
 },
 "nbformat": 4,
 "nbformat_minor": 2,
 "cells": [
  {
   "cell_type": "code",
   "execution_count": 8,
   "metadata": {
    "tags": []
   },
   "outputs": [
    {
     "output_type": "stream",
     "name": "stdout",
     "text": [
      "For a total of 239 letters, 126 were incorrect results for Base-MLP model.\nThe precision score is [0.3        0.16666667 0.66666667 0.4        0.44444444 0.25\n 0.4        0.57142857 0.52631579 0.66666667 0.875      0.64285714\n 0.5        0.38461538 0.33333333 0.33333333 0.44444444 0.42857143\n 0.25       0.57142857 0.75       0.33333333 0.5        0.66666667\n 0.8        0.5       ], the recall score is [0.3        0.11111111 0.8        0.25       0.5        0.25\n 0.4        0.44444444 1.         0.4        0.7        0.9\n 0.7        0.5        0.4        0.4        0.4        0.3\n 0.33333333 0.5        0.375      0.375      0.55555556 0.25\n 0.5        0.44444444] and the f1 measure is [0.3        0.13333333 0.72727273 0.30769231 0.47058824 0.25\n 0.4        0.5        0.68965517 0.5        0.77777778 0.75\n 0.58333333 0.43478261 0.36363636 0.36363636 0.42105263 0.35294118\n 0.28571429 0.53333333 0.5        0.35294118 0.52631579 0.36363636\n 0.61538462 0.47058824]\nThe accuracy score is 0.47280334728033474\nThe macro f1 is 0.460523685786242\n"
     ]
    }
   ],
   "source": [
    "import pandas as pd \n",
    "from BestDT import best_DT_model\n",
    "from numpy import mean\n",
    "from sklearn.metrics import confusion_matrix, recall_score, precision_score, f1_score, accuracy_score\n",
    "\n",
    "model = best_DT_model('../Assig1-Dataset/train_1.csv')\n",
    "df = pd.read_csv('../Assig1-Dataset/val_1.csv', header=None)\n",
    "\n",
    "labels = df[1024]\n",
    "del df[1024]\n",
    "\n",
    "features = [feature for feature in df.to_numpy()]\n",
    "predicted = model.predict(features)\n",
    "\n",
    "results = []\n",
    "incorrect_results = 0\n",
    "for i in range(len(features)):\n",
    "    results.append([predicted[i]])\n",
    "    # print(f'Row #{i} predicts {predicted[i]} and the actual label is {labels[i]}')\n",
    "    if predicted[i] != labels[i]:\n",
    "        incorrect_results += 1\n",
    "\n",
    "print(f'For a total of {len(features)} letters, {incorrect_results} were incorrect results for Base-MLP model.')\n",
    "csv_results = pd.DataFrame(results, columns=['Predicted'])\n",
    "csv_results.to_csv('Best-DT-DS1.csv')\n",
    "confusion_matrix(labels,predicted)\n",
    "\n",
    "print(f'The precision score is {precision_score(labels,predicted, average=None)}, the recall score is {recall_score(labels,predicted, average=None)} and the f1 measure is {f1_score(labels,predicted, average=None)}')\n",
    "\n",
    "print(f'The accuracy score is {accuracy_score(labels,predicted)}')\n",
    "print(f'The macro f1 is {mean(f1_score(labels,predicted, average=None))}')"
   ]
  },
  {
   "cell_type": "code",
   "execution_count": 9,
   "metadata": {},
   "outputs": [
    {
     "output_type": "stream",
     "name": "stdout",
     "text": [
      "For a total of 1560 letters, 354 were incorrect results for Base-MLP model.\nThe precision score is [0.77707006 0.904      0.57777778 0.61363636 0.54216867 0.65168539\n 0.68627451 0.86666667 0.84931507 0.81586402], the recall score is [0.73939394 0.904      0.57777778 0.6        0.6        0.7030303\n 0.77777778 0.86666667 0.82666667 0.768     ] and the f1 measure is [0.75776398 0.904      0.57777778 0.60674157 0.56962025 0.67638484\n 0.72916667 0.86666667 0.83783784 0.79120879]\nThe accuracy score is 0.7730769230769231\nThe macro f1 is 0.731716838116143\n"
     ]
    }
   ],
   "source": [
    "import pandas as pd \n",
    "from BestDT import best_DT_model\n",
    "from numpy import mean\n",
    "from sklearn.metrics import confusion_matrix, recall_score, precision_score, f1_score, accuracy_score\n",
    "\n",
    "model = best_DT_model('../Assig1-Dataset/train_2.csv')\n",
    "df = pd.read_csv('../Assig1-Dataset/val_2.csv', header=None)\n",
    "\n",
    "labels = df[1024]\n",
    "del df[1024]\n",
    "\n",
    "features = [feature for feature in df.to_numpy()]\n",
    "predicted = model.predict(features)\n",
    "\n",
    "results = []\n",
    "incorrect_results = 0\n",
    "for i in range(len(features)):\n",
    "    results.append([predicted[i]])\n",
    "    # print(f'Row #{i} predicts {predicted[i]} and the actual label is {labels[i]}')\n",
    "    if predicted[i] != labels[i]:\n",
    "        incorrect_results += 1\n",
    "\n",
    "print(f'For a total of {len(features)} letters, {incorrect_results} were incorrect results for Base-MLP model.')\n",
    "csv_results = pd.DataFrame(results, columns=['Predicted'])\n",
    "csv_results.to_csv('Best-DT-DS2.csv')\n",
    "confusion_matrix(labels,predicted)\n",
    "\n",
    "print(f'The precision score is {precision_score(labels,predicted, average=None)}, the recall score is {recall_score(labels,predicted, average=None)} and the f1 measure is {f1_score(labels,predicted, average=None)}')\n",
    "\n",
    "print(f'The accuracy score is {accuracy_score(labels,predicted)}')\n",
    "print(f'The macro f1 is {mean(f1_score(labels,predicted, average=None))}')"
   ]
  },
  {
   "cell_type": "code",
   "execution_count": null,
   "metadata": {},
   "outputs": [],
   "source": []
  }
 ]
}
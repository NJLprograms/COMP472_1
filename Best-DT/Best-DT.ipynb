{
 "metadata": {
  "language_info": {
   "codemirror_mode": {
    "name": "ipython",
    "version": 3
   },
   "file_extension": ".py",
   "mimetype": "text/x-python",
   "name": "python",
   "nbconvert_exporter": "python",
   "pygments_lexer": "ipython3",
   "version": "3.7.9-final"
  },
  "orig_nbformat": 2,
  "kernelspec": {
   "name": "Python 3.7.9 64-bit",
   "display_name": "Python 3.7.9 64-bit",
   "metadata": {
    "interpreter": {
     "hash": "31f2aee4e71d21fbe5cf8b01ff0e069b9275f58929596ceb00d14d90e3e16cd6"
    }
   }
  }
 },
 "nbformat": 4,
 "nbformat_minor": 2,
 "cells": [
  {
   "cell_type": "code",
   "execution_count": 5,
   "metadata": {
    "tags": []
   },
   "outputs": [
    {
     "output_type": "stream",
     "name": "stdout",
     "text": [
      "For a total of 239 letters, 121 were incorrect results for Base-MLP model.\nThe precision score is [0.38461538 0.         0.75       0.4        0.5        0.16666667\n 0.625      0.3        0.64285714 0.54545455 1.         0.625\n 0.47058824 0.45454545 0.4        0.45454545 0.375      0.45454545\n 0.36363636 0.66666667 0.75       0.2        0.5        0.66666667\n 0.66666667 0.57142857], the recall score is [0.5        0.         0.9        0.25       0.5        0.25\n 0.5        0.33333333 0.9        0.6        0.7        1.\n 0.8        0.5        0.4        0.5        0.3        0.5\n 0.44444444 0.5        0.375      0.125      0.44444444 0.25\n 0.5        0.44444444] and the f1 measure is [0.43478261 0.         0.81818182 0.30769231 0.5        0.2\n 0.55555556 0.31578947 0.75       0.57142857 0.82352941 0.76923077\n 0.59259259 0.47619048 0.4        0.47619048 0.33333333 0.47619048\n 0.4        0.57142857 0.5        0.15384615 0.47058824 0.36363636\n 0.57142857 0.5       ]\n"
     ]
    }
   ],
   "source": [
    "import pandas as pd \n",
    "from BestDT import best_DT_model\n",
    "from sklearn.metrics import confusion_matrix, recall_score, precision_score, f1_score\n",
    "\n",
    "model = best_DT_model('../Assig1-Dataset/train_1.csv')\n",
    "df = pd.read_csv('../Assig1-Dataset/val_1.csv', header=None)\n",
    "\n",
    "labels = df[1024]\n",
    "del df[1024]\n",
    "\n",
    "features = [feature for feature in df.to_numpy()]\n",
    "predicted = model.predict(features)\n",
    "\n",
    "results = []\n",
    "incorrect_results = 0\n",
    "for i in range(len(features)):\n",
    "    results.append([predicted[i]])\n",
    "    # print(f'Row #{i} predicts {predicted[i]} and the actual label is {labels[i]}')\n",
    "    if predicted[i] != labels[i]:\n",
    "        incorrect_results += 1\n",
    "\n",
    "print(f'For a total of {len(features)} letters, {incorrect_results} were incorrect results for Base-MLP model.')\n",
    "csv_results = pd.DataFrame(results, columns=['Predicted'])\n",
    "csv_results.to_csv('Best-DT-DS1.csv')\n",
    "confusion_matrix(labels,predicted)\n",
    "\n",
    "print(f'The precision score is {precision_score(labels,predicted, average=None)}, the recall score is {recall_score(labels,predicted, average=None)} and the f1 measure is {f1_score(labels,predicted, average=None)}') "
   ]
  },
  {
   "cell_type": "code",
   "execution_count": 4,
   "metadata": {},
   "outputs": [
    {
     "output_type": "stream",
     "name": "stdout",
     "text": [
      "For a total of 1560 letters, 369 were incorrect results for Base-MLP model.\nThe precision score is [0.77987421 0.88481675 0.575      0.57142857 0.52873563 0.66060606\n 0.62745098 0.90697674 0.82068966 0.81058496], the recall score is [0.75151515 0.90133333 0.51111111 0.53333333 0.61333333 0.66060606\n 0.71111111 0.86666667 0.79333333 0.776     ] and the f1 measure is [0.7654321  0.89299868 0.54117647 0.55172414 0.56790123 0.66060606\n 0.66666667 0.88636364 0.80677966 0.79291553]\n"
     ]
    }
   ],
   "source": [
    "import pandas as pd \n",
    "from BestDT import best_DT_model\n",
    "from sklearn.metrics import confusion_matrix, recall_score, precision_score, f1_score\n",
    "\n",
    "model = best_DT_model('../Assig1-Dataset/train_2.csv')\n",
    "df = pd.read_csv('../Assig1-Dataset/val_2.csv', header=None)\n",
    "\n",
    "labels = df[1024]\n",
    "del df[1024]\n",
    "\n",
    "features = [feature for feature in df.to_numpy()]\n",
    "predicted = model.predict(features)\n",
    "\n",
    "results = []\n",
    "incorrect_results = 0\n",
    "for i in range(len(features)):\n",
    "    results.append([predicted[i]])\n",
    "    # print(f'Row #{i} predicts {predicted[i]} and the actual label is {labels[i]}')\n",
    "    if predicted[i] != labels[i]:\n",
    "        incorrect_results += 1\n",
    "\n",
    "print(f'For a total of {len(features)} letters, {incorrect_results} were incorrect results for Base-MLP model.')\n",
    "csv_results = pd.DataFrame(results, columns=['Predicted'])\n",
    "csv_results.to_csv('Best-DT-DS2.csv')\n",
    "confusion_matrix(labels,predicted)\n",
    "\n",
    "print(f'The precision score is {precision_score(labels,predicted, average=None)}, the recall score is {recall_score(labels,predicted, average=None)} and the f1 measure is {f1_score(labels,predicted, average=None)}') "
   ]
  },
  {
   "cell_type": "code",
   "execution_count": null,
   "metadata": {},
   "outputs": [],
   "source": []
  }
 ]
}
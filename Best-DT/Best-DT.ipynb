{
 "metadata": {
  "language_info": {
   "codemirror_mode": {
    "name": "ipython",
    "version": 3
   },
   "file_extension": ".py",
   "mimetype": "text/x-python",
   "name": "python",
   "nbconvert_exporter": "python",
   "pygments_lexer": "ipython3",
   "version": "3.7.9-final"
  },
  "orig_nbformat": 2,
  "kernelspec": {
   "name": "Python 3.7.9 64-bit",
   "display_name": "Python 3.7.9 64-bit",
   "metadata": {
    "interpreter": {
     "hash": "31f2aee4e71d21fbe5cf8b01ff0e069b9275f58929596ceb00d14d90e3e16cd6"
    }
   }
  }
 },
 "nbformat": 4,
 "nbformat_minor": 2,
 "cells": [
  {
   "cell_type": "code",
   "execution_count": 7,
   "metadata": {
    "tags": []
   },
   "outputs": [
    {
     "output_type": "stream",
     "name": "stdout",
     "text": [
      "For a total of 239 letters, 121 were incorrect results for Base-MLP model.\nThe precision score is [0.45454545 0.25       0.6        0.5        0.375      0.22222222\n 0.57142857 0.4        0.55555556 0.55555556 0.63636364 0.66666667\n 0.38461538 0.41666667 0.5        0.5        0.45454545 0.57142857\n 0.3        0.66666667 1.         0.33333333 0.44444444 0.5\n 0.66666667 0.44444444], the recall score is [0.5        0.11111111 0.9        0.375      0.375      0.25\n 0.4        0.44444444 1.         0.5        0.7        1.\n 0.5        0.5        0.4        0.6        0.5        0.4\n 0.33333333 0.5        0.375      0.25       0.44444444 0.25\n 0.5        0.44444444] and the f1 measure is [0.47619048 0.15384615 0.72       0.42857143 0.375      0.23529412\n 0.47058824 0.42105263 0.71428571 0.52631579 0.66666667 0.8\n 0.43478261 0.45454545 0.44444444 0.54545455 0.47619048 0.47058824\n 0.31578947 0.57142857 0.54545455 0.28571429 0.44444444 0.33333333\n 0.57142857 0.44444444]\nThe accuracy score is 0.49372384937238495\n"
     ]
    }
   ],
   "source": [
    "import pandas as pd \n",
    "from BestDT import best_DT_model\n",
    "from sklearn.metrics import confusion_matrix, recall_score, precision_score, f1_score, accuracy_score\n",
    "\n",
    "model = best_DT_model('../Assig1-Dataset/train_1.csv')\n",
    "df = pd.read_csv('../Assig1-Dataset/val_1.csv', header=None)\n",
    "\n",
    "labels = df[1024]\n",
    "del df[1024]\n",
    "\n",
    "features = [feature for feature in df.to_numpy()]\n",
    "predicted = model.predict(features)\n",
    "\n",
    "results = []\n",
    "incorrect_results = 0\n",
    "for i in range(len(features)):\n",
    "    results.append([predicted[i]])\n",
    "    # print(f'Row #{i} predicts {predicted[i]} and the actual label is {labels[i]}')\n",
    "    if predicted[i] != labels[i]:\n",
    "        incorrect_results += 1\n",
    "\n",
    "print(f'For a total of {len(features)} letters, {incorrect_results} were incorrect results for Base-MLP model.')\n",
    "csv_results = pd.DataFrame(results, columns=['Predicted'])\n",
    "csv_results.to_csv('Best-DT-DS1.csv')\n",
    "confusion_matrix(labels,predicted)\n",
    "\n",
    "print(f'The precision score is {precision_score(labels,predicted, average=None)}, the recall score is {recall_score(labels,predicted, average=None)} and the f1 measure is {f1_score(labels,predicted, average=None)}')\n",
    "\n",
    "print(f'The accuracy score is {accuracy_score(labels,predicted)}')"
   ]
  },
  {
   "cell_type": "code",
   "execution_count": 6,
   "metadata": {},
   "outputs": [
    {
     "output_type": "stream",
     "name": "stdout",
     "text": [
      "For a total of 1560 letters, 362 were incorrect results for Base-MLP model.\nThe precision score is [0.77852349 0.89267016 0.7027027  0.56097561 0.5443787  0.62643678\n 0.73809524 0.85106383 0.83783784 0.79784367], the recall score is [0.7030303  0.90933333 0.57777778 0.51111111 0.61333333 0.66060606\n 0.68888889 0.88888889 0.82666667 0.78933333] and the f1 measure is [0.7388535  0.9009247  0.63414634 0.53488372 0.57680251 0.64306785\n 0.71264368 0.86956522 0.83221477 0.79356568]\nThe accuracy score is 0.767948717948718\n"
     ]
    }
   ],
   "source": [
    "import pandas as pd \n",
    "from BestDT import best_DT_model\n",
    "from sklearn.metrics import confusion_matrix, recall_score, precision_score, f1_score, accuracy_score\n",
    "\n",
    "model = best_DT_model('../Assig1-Dataset/train_2.csv')\n",
    "df = pd.read_csv('../Assig1-Dataset/val_2.csv', header=None)\n",
    "\n",
    "labels = df[1024]\n",
    "del df[1024]\n",
    "\n",
    "features = [feature for feature in df.to_numpy()]\n",
    "predicted = model.predict(features)\n",
    "\n",
    "results = []\n",
    "incorrect_results = 0\n",
    "for i in range(len(features)):\n",
    "    results.append([predicted[i]])\n",
    "    # print(f'Row #{i} predicts {predicted[i]} and the actual label is {labels[i]}')\n",
    "    if predicted[i] != labels[i]:\n",
    "        incorrect_results += 1\n",
    "\n",
    "print(f'For a total of {len(features)} letters, {incorrect_results} were incorrect results for Base-MLP model.')\n",
    "csv_results = pd.DataFrame(results, columns=['Predicted'])\n",
    "csv_results.to_csv('Best-DT-DS2.csv')\n",
    "confusion_matrix(labels,predicted)\n",
    "\n",
    "print(f'The precision score is {precision_score(labels,predicted, average=None)}, the recall score is {recall_score(labels,predicted, average=None)} and the f1 measure is {f1_score(labels,predicted, average=None)}')\n",
    "\n",
    "print(f'The accuracy score is {accuracy_score(labels,predicted)}')"
   ]
  },
  {
   "cell_type": "code",
   "execution_count": null,
   "metadata": {},
   "outputs": [],
   "source": []
  }
 ]
}
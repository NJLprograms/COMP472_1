{
 "metadata": {
  "language_info": {
   "codemirror_mode": {
    "name": "ipython",
    "version": 3
   },
   "file_extension": ".py",
   "mimetype": "text/x-python",
   "name": "python",
   "nbconvert_exporter": "python",
   "pygments_lexer": "ipython3",
   "version": "3.8.3-final"
  },
  "orig_nbformat": 2,
  "kernelspec": {
   "name": "Python 3.8.3 64-bit ('base': conda)",
   "display_name": "Python 3.8.3 64-bit ('base': conda)",
   "metadata": {
    "interpreter": {
     "hash": "e0d100da2a8ea264dfb47a8430a9e30a2afabd950adf81b1e01ba12eb2b32acc"
    }
   }
  }
 },
 "nbformat": 4,
 "nbformat_minor": 2,
 "cells": [
  {
   "cell_type": "code",
   "execution_count": 3,
   "metadata": {
    "tags": []
   },
   "outputs": [
    {
     "output_type": "stream",
     "name": "stdout",
     "text": [
      "Row #0 predicts 1 and the actual label is 1\nRow #1 predicts 17 and the actual label is 17\nRow #2 predicts 12 and the actual label is 12\nRow #3 predicts 12 and the actual label is 12\nRow #4 predicts 1 and the actual label is 1\nRow #5 predicts 16 and the actual label is 16\nRow #6 predicts 17 and the actual label is 17\nRow #7 predicts 9 and the actual label is 25\nRow #8 predicts 14 and the actual label is 14\nRow #9 predicts 0 and the actual label is 9\nRow #10 predicts 3 and the actual label is 3\nRow #11 predicts 1 and the actual label is 4\nRow #12 predicts 21 and the actual label is 21\nRow #13 predicts 17 and the actual label is 17\nRow #14 predicts 25 and the actual label is 25\nRow #15 predicts 13 and the actual label is 10\nRow #16 predicts 3 and the actual label is 18\nRow #17 predicts 15 and the actual label is 15\nRow #18 predicts 11 and the actual label is 11\nRow #19 predicts 15 and the actual label is 15\nRow #20 predicts 5 and the actual label is 5\nRow #21 predicts 8 and the actual label is 8\nRow #22 predicts 19 and the actual label is 19\nRow #23 predicts 13 and the actual label is 21\nRow #24 predicts 24 and the actual label is 24\nRow #25 predicts 22 and the actual label is 22\nRow #26 predicts 15 and the actual label is 15\nRow #27 predicts 1 and the actual label is 18\nRow #28 predicts 20 and the actual label is 20\nRow #29 predicts 4 and the actual label is 4\nRow #30 predicts 15 and the actual label is 15\nRow #31 predicts 20 and the actual label is 20\nRow #32 predicts 20 and the actual label is 20\nRow #33 predicts 0 and the actual label is 0\nRow #34 predicts 13 and the actual label is 24\nRow #35 predicts 17 and the actual label is 17\nRow #36 predicts 10 and the actual label is 10\nRow #37 predicts 21 and the actual label is 13\nRow #38 predicts 24 and the actual label is 8\nRow #39 predicts 23 and the actual label is 23\nRow #40 predicts 3 and the actual label is 3\nRow #41 predicts 19 and the actual label is 19\nRow #42 predicts 18 and the actual label is 18\nRow #43 predicts 20 and the actual label is 20\nRow #44 predicts 15 and the actual label is 7\nRow #45 predicts 9 and the actual label is 9\nRow #46 predicts 25 and the actual label is 25\nRow #47 predicts 22 and the actual label is 22\nRow #48 predicts 24 and the actual label is 8\nRow #49 predicts 2 and the actual label is 2\nRow #50 predicts 10 and the actual label is 10\nRow #51 predicts 21 and the actual label is 23\nRow #52 predicts 12 and the actual label is 12\nRow #53 predicts 7 and the actual label is 7\nRow #54 predicts 16 and the actual label is 16\nRow #55 predicts 9 and the actual label is 9\nRow #56 predicts 2 and the actual label is 2\nRow #57 predicts 6 and the actual label is 6\nRow #58 predicts 20 and the actual label is 3\nRow #59 predicts 14 and the actual label is 14\nRow #60 predicts 11 and the actual label is 11\nRow #61 predicts 6 and the actual label is 6\nRow #62 predicts 3 and the actual label is 3\nRow #63 predicts 13 and the actual label is 21\nRow #64 predicts 23 and the actual label is 23\nRow #65 predicts 14 and the actual label is 14\nRow #66 predicts 17 and the actual label is 17\nRow #67 predicts 9 and the actual label is 9\nRow #68 predicts 22 and the actual label is 22\nRow #69 predicts 11 and the actual label is 11\nRow #70 predicts 10 and the actual label is 10\nRow #71 predicts 8 and the actual label is 8\nRow #72 predicts 3 and the actual label is 3\nRow #73 predicts 5 and the actual label is 4\nRow #74 predicts 7 and the actual label is 7\nRow #75 predicts 18 and the actual label is 18\nRow #76 predicts 8 and the actual label is 8\nRow #77 predicts 2 and the actual label is 2\nRow #78 predicts 1 and the actual label is 25\nRow #79 predicts 14 and the actual label is 14\nRow #80 predicts 12 and the actual label is 12\nRow #81 predicts 9 and the actual label is 20\nRow #82 predicts 5 and the actual label is 19\nRow #83 predicts 25 and the actual label is 25\nRow #84 predicts 7 and the actual label is 7\nRow #85 predicts 6 and the actual label is 6\nRow #86 predicts 0 and the actual label is 0\nRow #87 predicts 18 and the actual label is 18\nRow #88 predicts 14 and the actual label is 14\nRow #89 predicts 12 and the actual label is 12\nRow #90 predicts 24 and the actual label is 19\nRow #91 predicts 10 and the actual label is 10\nRow #92 predicts 13 and the actual label is 23\nRow #93 predicts 5 and the actual label is 5\nRow #94 predicts 25 and the actual label is 25\nRow #95 predicts 6 and the actual label is 16\nRow #96 predicts 2 and the actual label is 2\nRow #97 predicts 0 and the actual label is 0\nRow #98 predicts 13 and the actual label is 21\nRow #99 predicts 25 and the actual label is 25\nRow #100 predicts 20 and the actual label is 6\nRow #101 predicts 6 and the actual label is 14\nRow #102 predicts 0 and the actual label is 13\nRow #103 predicts 13 and the actual label is 13\nRow #104 predicts 7 and the actual label is 7\nRow #105 predicts 24 and the actual label is 13\nRow #106 predicts 17 and the actual label is 13\nRow #107 predicts 9 and the actual label is 9\nRow #108 predicts 13 and the actual label is 13\nRow #109 predicts 13 and the actual label is 13\nRow #110 predicts 5 and the actual label is 5\nRow #111 predicts 6 and the actual label is 18\nRow #112 predicts 11 and the actual label is 11\nRow #113 predicts 14 and the actual label is 14\nRow #114 predicts 22 and the actual label is 22\nRow #115 predicts 21 and the actual label is 21\nRow #116 predicts 10 and the actual label is 10\nRow #117 predicts 17 and the actual label is 17\nRow #118 predicts 18 and the actual label is 18\nRow #119 predicts 17 and the actual label is 17\nRow #120 predicts 0 and the actual label is 0\nRow #121 predicts 15 and the actual label is 15\nRow #122 predicts 11 and the actual label is 11\nRow #123 predicts 17 and the actual label is 17\nRow #124 predicts 17 and the actual label is 17\nRow #125 predicts 11 and the actual label is 11\nRow #126 predicts 14 and the actual label is 14\nRow #127 predicts 7 and the actual label is 7\nRow #128 predicts 25 and the actual label is 25\nRow #129 predicts 11 and the actual label is 20\nRow #130 predicts 22 and the actual label is 7\nRow #131 predicts 16 and the actual label is 16\nRow #132 predicts 17 and the actual label is 17\nRow #133 predicts 5 and the actual label is 9\nRow #134 predicts 16 and the actual label is 16\nRow #135 predicts 5 and the actual label is 19\nRow #136 predicts 22 and the actual label is 22\nRow #137 predicts 7 and the actual label is 5\nRow #138 predicts 23 and the actual label is 23\nRow #139 predicts 23 and the actual label is 23\nRow #140 predicts 0 and the actual label is 0\nRow #141 predicts 8 and the actual label is 8\nRow #142 predicts 13 and the actual label is 16\nRow #143 predicts 9 and the actual label is 1\nRow #144 predicts 9 and the actual label is 14\nRow #145 predicts 6 and the actual label is 6\nRow #146 predicts 6 and the actual label is 6\nRow #147 predicts 1 and the actual label is 1\nRow #148 predicts 3 and the actual label is 3\nRow #149 predicts 6 and the actual label is 6\nRow #150 predicts 22 and the actual label is 22\nRow #151 predicts 1 and the actual label is 1\nRow #152 predicts 12 and the actual label is 12\nRow #153 predicts 15 and the actual label is 5\nRow #154 predicts 5 and the actual label is 5\nRow #155 predicts 9 and the actual label is 9\nRow #156 predicts 4 and the actual label is 4\nRow #157 predicts 0 and the actual label is 8\nRow #158 predicts 20 and the actual label is 20\nRow #159 predicts 22 and the actual label is 22\nRow #160 predicts 13 and the actual label is 13\nRow #161 predicts 25 and the actual label is 25\nRow #162 predicts 17 and the actual label is 0\nRow #163 predicts 12 and the actual label is 12\nRow #164 predicts 17 and the actual label is 23\nRow #165 predicts 16 and the actual label is 16\nRow #166 predicts 4 and the actual label is 4\nRow #167 predicts 11 and the actual label is 11\nRow #168 predicts 13 and the actual label is 13\nRow #169 predicts 9 and the actual label is 18\nRow #170 predicts 15 and the actual label is 15\nRow #171 predicts 22 and the actual label is 22\nRow #172 predicts 6 and the actual label is 6\nRow #173 predicts 15 and the actual label is 19\nRow #174 predicts 16 and the actual label is 16\nRow #175 predicts 15 and the actual label is 15\nRow #176 predicts 11 and the actual label is 20\nRow #177 predicts 19 and the actual label is 19\nRow #178 predicts 10 and the actual label is 10\nRow #179 predicts 6 and the actual label is 6\nRow #180 predicts 3 and the actual label is 3\nRow #181 predicts 5 and the actual label is 0\nRow #182 predicts 4 and the actual label is 4\nRow #183 predicts 5 and the actual label is 1\nRow #184 predicts 24 and the actual label is 24\nRow #185 predicts 12 and the actual label is 5\nRow #186 predicts 11 and the actual label is 11\nRow #187 predicts 22 and the actual label is 22\nRow #188 predicts 18 and the actual label is 18\nRow #189 predicts 0 and the actual label is 23\nRow #190 predicts 2 and the actual label is 2\nRow #191 predicts 15 and the actual label is 15\nRow #192 predicts 21 and the actual label is 21\nRow #193 predicts 15 and the actual label is 15\nRow #194 predicts 9 and the actual label is 9\nRow #195 predicts 21 and the actual label is 21\nRow #196 predicts 2 and the actual label is 2\nRow #197 predicts 10 and the actual label is 10\nRow #198 predicts 11 and the actual label is 4\nRow #199 predicts 1 and the actual label is 1\nRow #200 predicts 8 and the actual label is 8\nRow #201 predicts 9 and the actual label is 1\nRow #202 predicts 13 and the actual label is 12\nRow #203 predicts 0 and the actual label is 0\nRow #204 predicts 7 and the actual label is 7\nRow #205 predicts 5 and the actual label is 4\nRow #206 predicts 0 and the actual label is 9\nRow #207 predicts 2 and the actual label is 2\nRow #208 predicts 2 and the actual label is 2\nRow #209 predicts 13 and the actual label is 0\nRow #210 predicts 15 and the actual label is 15\nRow #211 predicts 21 and the actual label is 7\nRow #212 predicts 10 and the actual label is 10\nRow #213 predicts 16 and the actual label is 16\nRow #214 predicts 11 and the actual label is 11\nRow #215 predicts 4 and the actual label is 6\nRow #216 predicts 8 and the actual label is 8\nRow #217 predicts 9 and the actual label is 9\nRow #218 predicts 16 and the actual label is 16\nRow #219 predicts 24 and the actual label is 24\nRow #220 predicts 0 and the actual label is 0\nRow #221 predicts 24 and the actual label is 24\nRow #222 predicts 2 and the actual label is 2\nRow #223 predicts 13 and the actual label is 13\nRow #224 predicts 24 and the actual label is 24\nRow #225 predicts 1 and the actual label is 1\nRow #226 predicts 21 and the actual label is 12\nRow #227 predicts 19 and the actual label is 19\nRow #228 predicts 12 and the actual label is 12\nRow #229 predicts 14 and the actual label is 14\nRow #230 predicts 1 and the actual label is 3\nRow #231 predicts 11 and the actual label is 11\nRow #232 predicts 24 and the actual label is 24\nRow #233 predicts 10 and the actual label is 10\nRow #234 predicts 13 and the actual label is 21\nRow #235 predicts 24 and the actual label is 24\nRow #236 predicts 2 and the actual label is 2\nRow #237 predicts 8 and the actual label is 8\nRow #238 predicts 5 and the actual label is 5\nFor a total of 239 letters, 59 were incorrect results for GNB model.\n"
     ]
    }
   ],
   "source": [
    "from perceptron import perceptron_model\n",
    "import pandas as pd\n",
    "\n",
    "model = perceptron_model('../Assig1-Dataset/train_1.csv')\n",
    "df = pd.read_csv('../Assig1-Dataset/val_1.csv', header=None)\n",
    "\n",
    "labels = df[1024]\n",
    "del df[1024]\n",
    "\n",
    "features = [feature for feature in df.to_numpy().tolist()]\n",
    "predicted = model.predict(features)\n",
    "\n",
    "# print results\n",
    "incorrect_results = 0\n",
    "\n",
    "results = []\n",
    "for i in range(len(features)):\n",
    "    results.append([predicted[i]])\n",
    "    print(f'Row #{i} predicts {predicted[i]} and the actual label is {labels[i]}')\n",
    "    if predicted[i] != labels[i]:\n",
    "        incorrect_results += 1\n",
    "\n",
    "print(f'For a total of {len(features)} letters, {incorrect_results} were incorrect results for GNB model.')\n",
    "csv_results = pd.DataFrame(results, columns=['Predicted'])\n",
    "csv_results.to_csv('PER_DS1.csv')"
   ]
  },
  {
   "cell_type": "code",
   "execution_count": null,
   "metadata": {},
   "outputs": [],
   "source": [
    "from perceptron import perceptron_model\n",
    "import pandas as pd\n",
    "\n",
    "model = perceptron_model('../Assig1-Dataset/train_2.csv')\n",
    "df = pd.read_csv('../Assig1-Dataset/val_2.csv', header=None)\n",
    "\n",
    "labels = df[1024]\n",
    "del df[1024]\n",
    "\n",
    "features = [feature for feature in df.to_numpy().tolist()]\n",
    "predicted = model.predict(features)\n",
    "\n",
    "# print results\n",
    "incorrect_results = 0\n",
    "\n",
    "results = []\n",
    "for i in range(len(features)):\n",
    "    results.append([predicted[i]])\n",
    "    print(f'Row #{i} predicts {predicted[i]} and the actual label is {labels[i]}')\n",
    "    if predicted[i] != labels[i]:\n",
    "        incorrect_results += 1\n",
    "\n",
    "print(f'For a total of {len(features)} letters, {incorrect_results} were incorrect results for GNB model.')\n",
    "csv_results = pd.DataFrame(results, columns=['Predicted'])\n",
    "csv_results.to_csv('PER_DS2.csv')"
   ]
  }
 ]
}
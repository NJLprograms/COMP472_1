{
 "metadata": {
  "language_info": {
   "codemirror_mode": {
    "name": "ipython",
    "version": 3
   },
   "file_extension": ".py",
   "mimetype": "text/x-python",
   "name": "python",
   "nbconvert_exporter": "python",
   "pygments_lexer": "ipython3",
   "version": "3.7.9-final"
  },
  "orig_nbformat": 2,
  "kernelspec": {
   "name": "Python 3.7.9 64-bit",
   "display_name": "Python 3.7.9 64-bit",
   "metadata": {
    "interpreter": {
     "hash": "31f2aee4e71d21fbe5cf8b01ff0e069b9275f58929596ceb00d14d90e3e16cd6"
    }
   }
  }
 },
 "nbformat": 4,
 "nbformat_minor": 2,
 "cells": [
  {
   "cell_type": "code",
   "execution_count": 8,
   "metadata": {
    "tags": []
   },
   "outputs": [
    {
     "output_type": "stream",
     "name": "stdout",
     "text": [
      "For a total of 239 letters, 59 were incorrect results for PER model.\nThe precision score is [0.58333333 0.6        1.         0.85714286 0.8        0.41666667\n 0.72727273 0.85714286 1.         0.53846154 1.         0.76923077\n 0.88888889 0.375      1.         0.76923077 1.         0.76923077\n 1.         1.         0.71428571 0.5        0.9        1.\n 0.63636364 1.        ], the recall score is [0.7        0.66666667 1.         0.75       0.5        0.625\n 0.8        0.66666667 0.7        0.7        0.9        1.\n 0.8        0.6        0.8        1.         0.8        1.\n 0.55555556 0.5        0.625      0.5        1.         0.5\n 0.875      0.77777778] and the f1 measure is [0.63636364 0.63157895 1.         0.8        0.61538462 0.5\n 0.76190476 0.75       0.82352941 0.60869565 0.94736842 0.86956522\n 0.84210526 0.46153846 0.88888889 0.86956522 0.88888889 0.86956522\n 0.71428571 0.66666667 0.66666667 0.5        0.94736842 0.66666667\n 0.73684211 0.875     ]\nThe accuracy score is 0.7531380753138075\nThe macro f1 is 0.7514784169716244\n"
     ]
    }
   ],
   "source": [
    "from perceptron import perceptron_model\n",
    "import pandas as pd\n",
    "from numpy import mean\n",
    "from sklearn.metrics import confusion_matrix, recall_score, precision_score, f1_score, accuracy_score\n",
    "\n",
    "model = perceptron_model('../Assig1-Dataset/train_1.csv')\n",
    "df = pd.read_csv('../Assig1-Dataset/val_1.csv', header=None)\n",
    "\n",
    "labels = df[1024]\n",
    "del df[1024]\n",
    "\n",
    "features = [feature for feature in df.to_numpy().tolist()]\n",
    "predicted = model.predict(features)\n",
    "\n",
    "# print results\n",
    "incorrect_results = 0\n",
    "\n",
    "results = []\n",
    "for i in range(len(features)):\n",
    "    results.append([predicted[i]])\n",
    "    # print(f'Row #{i} predicts {predicted[i]} and the actual label is {labels[i]}')\n",
    "    if predicted[i] != labels[i]:\n",
    "        incorrect_results += 1\n",
    "\n",
    "print(f'For a total of {len(features)} letters, {incorrect_results} were incorrect results for PER model.')\n",
    "csv_results = pd.DataFrame(results, columns=['Predicted'])\n",
    "csv_results.to_csv('PER_DS1.csv')\n",
    "\n",
    "confusion_matrix(labels,predicted)\n",
    "print(f'The precision score is {precision_score(labels,predicted, average=None)}, the recall score is {recall_score(labels,predicted, average=None)} and the f1 measure is {f1_score(labels,predicted, average=None)}')\n",
    "\n",
    "print(f'The accuracy score is {accuracy_score(labels,predicted)}')\n",
    "print(f'The macro f1 is {mean(f1_score(labels,predicted, average=None))}')"
   ]
  },
  {
   "cell_type": "code",
   "execution_count": 9,
   "metadata": {
    "tags": []
   },
   "outputs": [
    {
     "output_type": "stream",
     "name": "stdout",
     "text": [
      "For a total of 1560 letters, 237 were incorrect results for PER model.\nThe precision score is [0.68584071 0.87410926 0.90322581 0.80952381 0.87356322 0.86163522\n 0.84090909 0.97297297 0.84285714 0.89544236], the recall score is [0.93939394 0.98133333 0.62222222 0.75555556 0.50666667 0.83030303\n 0.82222222 0.8        0.78666667 0.89066667] and the f1 measure is [0.79283887 0.92462312 0.73684211 0.7816092  0.64135021 0.84567901\n 0.83146067 0.87804878 0.8137931  0.89304813]\nThe accuracy score is 0.8480769230769231\nThe macro f1 is 0.8139293200675425\n"
     ]
    }
   ],
   "source": [
    "from perceptron import perceptron_model\n",
    "import pandas as pd\n",
    "from numpy import mean\n",
    "from sklearn.metrics import confusion_matrix, recall_score, precision_score, f1_score, accuracy_score\n",
    "\n",
    "model = perceptron_model('../Assig1-Dataset/train_2.csv')\n",
    "df = pd.read_csv('../Assig1-Dataset/val_2.csv', header=None)\n",
    "\n",
    "labels = df[1024]\n",
    "del df[1024]\n",
    "\n",
    "features = [feature for feature in df.to_numpy().tolist()]\n",
    "predicted = model.predict(features)\n",
    "\n",
    "# print results\n",
    "incorrect_results = 0\n",
    "\n",
    "results = []\n",
    "for i in range(len(features)):\n",
    "    results.append([predicted[i]])\n",
    "    # print(f'Row #{i} predicts {predicted[i]} and the actual label is {labels[i]}')\n",
    "    if predicted[i] != labels[i]:\n",
    "        incorrect_results += 1\n",
    "\n",
    "print(f'For a total of {len(features)} letters, {incorrect_results} were incorrect results for PER model.')\n",
    "csv_results = pd.DataFrame(results, columns=['Predicted'])\n",
    "csv_results.to_csv('PER_DS2.csv')\n",
    "confusion_matrix(labels,predicted)\n",
    "\n",
    "print(f'The precision score is {precision_score(labels,predicted, average=None)}, the recall score is {recall_score(labels,predicted, average=None)} and the f1 measure is {f1_score(labels,predicted, average=None)}')\n",
    "\n",
    "print(f'The accuracy score is {accuracy_score(labels,predicted)}')\n",
    "print(f'The macro f1 is {mean(f1_score(labels,predicted, average=None))}')"
   ]
  },
  {
   "cell_type": "code",
   "execution_count": null,
   "metadata": {},
   "outputs": [],
   "source": []
  }
 ]
}